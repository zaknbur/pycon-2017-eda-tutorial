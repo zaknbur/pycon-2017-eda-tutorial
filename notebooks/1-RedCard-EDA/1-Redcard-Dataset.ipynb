{
  "nbformat": 4,
  "nbformat_minor": 0,
  "metadata": {
    "anaconda-cloud": {},
    "kernelspec": {
      "display_name": "Python 3",
      "language": "python",
      "name": "python3"
    },
    "language_info": {
      "codemirror_mode": {
        "name": "ipython",
        "version": 3
      },
      "file_extension": ".py",
      "mimetype": "text/x-python",
      "name": "python",
      "nbconvert_exporter": "python",
      "pygments_lexer": "ipython3",
      "version": "3.6.1"
    },
    "toc": {
      "colors": {
        "hover_highlight": "#DAA520",
        "running_highlight": "#FF0000",
        "selected_highlight": "#FFD700"
      },
      "moveMenuLeft": true,
      "nav_menu": {
        "height": "318px",
        "width": "252px"
      },
      "navigate_menu": true,
      "number_sections": true,
      "sideBar": true,
      "threshold": 4,
      "toc_cell": false,
      "toc_section_display": "block",
      "toc_window_display": false,
      "widenNotebook": false
    },
    "colab": {
      "name": "1-Redcard-Dataset.ipynb",
      "version": "0.3.2",
      "provenance": [],
      "toc_visible": true
    }
  },
  "cells": [
    {
      "cell_type": "markdown",
      "metadata": {
        "id": "r7WQzvjjubsr",
        "colab_type": "text"
      },
      "source": [
        "# Redcard Exploratory Data Analysis\n",
        "\n",
        "This dataset is taken from a fantastic paper that looks to see how analytical choices made by different data science teams on the same dataset in an attempt to answer the same research question affect the final outcome.\n",
        "\n",
        "[Many analysts, one dataset: Making transparent how variations in analytical choices affect results](https://osf.io/gvm2z/)\n",
        "\n",
        "The data can be found [here](https://osf.io/47tnc/).\n",
        "\n"
      ]
    },
    {
      "cell_type": "markdown",
      "metadata": {
        "collapsed": true,
        "id": "JQcwHIQxubs0",
        "colab_type": "text"
      },
      "source": [
        "## The Task\n",
        "\n",
        "Do an Exploratory Data Analysis on the redcard dataset. Keeping in mind the question is the following: **Are soccer referees more likely to give red cards to dark-skin-toned players than light-skin-toned players?**\n"
      ]
    },
    {
      "cell_type": "code",
      "metadata": {
        "id": "PtRpS71Hubs3",
        "colab_type": "code",
        "colab": {
          "base_uri": "https://localhost:8080/",
          "height": 275
        },
        "outputId": "396d43b2-ac58-4446-e8f9-040a01eac799"
      },
      "source": [
        "!conda install -c conda-forge pandas-profiling -y \n",
        "\n",
        "!pip install missingno"
      ],
      "execution_count": 1,
      "outputs": [
        {
          "output_type": "stream",
          "text": [
            "/bin/bash: conda: command not found\n",
            "Requirement already satisfied: missingno in /usr/local/lib/python3.6/dist-packages (0.4.2)\n",
            "Requirement already satisfied: scipy in /usr/local/lib/python3.6/dist-packages (from missingno) (1.3.0)\n",
            "Requirement already satisfied: numpy in /usr/local/lib/python3.6/dist-packages (from missingno) (1.16.4)\n",
            "Requirement already satisfied: seaborn in /usr/local/lib/python3.6/dist-packages (from missingno) (0.9.0)\n",
            "Requirement already satisfied: matplotlib in /usr/local/lib/python3.6/dist-packages (from missingno) (3.0.3)\n",
            "Requirement already satisfied: pandas>=0.15.2 in /usr/local/lib/python3.6/dist-packages (from seaborn->missingno) (0.24.2)\n",
            "Requirement already satisfied: pyparsing!=2.0.4,!=2.1.2,!=2.1.6,>=2.0.1 in /usr/local/lib/python3.6/dist-packages (from matplotlib->missingno) (2.4.0)\n",
            "Requirement already satisfied: python-dateutil>=2.1 in /usr/local/lib/python3.6/dist-packages (from matplotlib->missingno) (2.5.3)\n",
            "Requirement already satisfied: kiwisolver>=1.0.1 in /usr/local/lib/python3.6/dist-packages (from matplotlib->missingno) (1.1.0)\n",
            "Requirement already satisfied: cycler>=0.10 in /usr/local/lib/python3.6/dist-packages (from matplotlib->missingno) (0.10.0)\n",
            "Requirement already satisfied: pytz>=2011k in /usr/local/lib/python3.6/dist-packages (from pandas>=0.15.2->seaborn->missingno) (2018.9)\n",
            "Requirement already satisfied: six>=1.5 in /usr/local/lib/python3.6/dist-packages (from python-dateutil>=2.1->matplotlib->missingno) (1.12.0)\n",
            "Requirement already satisfied: setuptools in /usr/local/lib/python3.6/dist-packages (from kiwisolver>=1.0.1->matplotlib->missingno) (41.0.1)\n"
          ],
          "name": "stdout"
        }
      ]
    },
    {
      "cell_type": "code",
      "metadata": {
        "id": "PCiazqLSubxZ",
        "colab_type": "code",
        "colab": {}
      },
      "source": [
        "%matplotlib inline\n",
        "%config InlineBackend.figure_format='retina'\n",
        "\n",
        "from __future__ import absolute_import, division, print_function\n",
        "import matplotlib as mpl\n",
        "from matplotlib import pyplot as plt\n",
        "from matplotlib.pyplot import GridSpec\n",
        "import seaborn as sns\n",
        "import numpy as np\n",
        "import pandas as pd\n",
        "import os, sys\n",
        "from tqdm import tqdm\n",
        "import warnings\n",
        "warnings.filterwarnings('ignore')\n",
        "sns.set_context(\"poster\", font_scale=1.3)\n",
        "\n",
        "import missingno as msno\n",
        "import pandas_profiling\n",
        "\n",
        "from sklearn.datasets import make_blobs\n",
        "import time"
      ],
      "execution_count": 0,
      "outputs": []
    },
    {
      "cell_type": "markdown",
      "metadata": {
        "id": "gvEJPlRdubxi",
        "colab_type": "text"
      },
      "source": [
        "## About the Data\n",
        "\n",
        "> The dataset is available as a list with 146,028 dyads of players and referees and includes details from players, details from referees and details regarding the interactions of player-referees. A summary of the variables of interest can be seen below. A detailed description of all variables included can be seen in the README file on the project website. \n",
        "\n",
        "> From a company for sports statistics, we obtained data and profile photos from all soccer players (N = 2,053) playing in the first male divisions of England, Germany, France and Spain in the 2012-2013 season and all referees (N = 3,147) that these players played under in their professional career (see Figure 1). We created a dataset of playerâreferee dyads including the number of matches players and referees encountered each other and our dependent variable, the number of red cards given to a player by a particular referee throughout all matches the two encountered each other.\n",
        "\n",
        "> -- https://docs.google.com/document/d/1uCF5wmbcL90qvrk_J27fWAvDcDNrO9o_APkicwRkOKc/edit\n",
        "\n",
        "\n",
        "| Variable Name: | Variable Description: | \n",
        "| -- | -- | \n",
        "| playerShort | short player ID | \n",
        "| player | player name | \n",
        "| club | player club | \n",
        "| leagueCountry | country of player club (England, Germany, France, and Spain) | \n",
        "| height | player height (in cm) | \n",
        "| weight | player weight (in kg) | \n",
        "| position | player position | \n",
        "| games | number of games in the player-referee dyad | \n",
        "| goals | number of goals in the player-referee dyad | \n",
        "| yellowCards | number of yellow cards player received from the referee | \n",
        "| yellowReds | number of yellow-red cards player received from the referee | \n",
        "| redCards | number of red cards player received from the referee | \n",
        "| photoID | ID of player photo (if available) | \n",
        "| rater1 | skin rating of photo by rater 1 | \n",
        "| rater2 | skin rating of photo by rater 2 | \n",
        "| refNum | unique referee ID number (referee name removed for anonymizing purposes) | \n",
        "| refCountry | unique referee country ID number | \n",
        "| meanIAT | mean implicit bias score (using the race IAT) for referee country | \n",
        "| nIAT | sample size for race IAT in that particular country | \n",
        "| seIAT | standard error for mean estimate of race IAT   | \n",
        "| meanExp | mean explicit bias score (using a racial thermometer task) for referee country | \n",
        "| nExp | sample size for explicit bias in that particular country | \n",
        "| seExp |  standard error for mean estimate of explicit bias measure | \n",
        "\n"
      ]
    },
    {
      "cell_type": "markdown",
      "metadata": {
        "id": "2ozUqGA9ubxj",
        "colab_type": "text"
      },
      "source": [
        "## What the teams found\n",
        "\n",
        "\n",
        "### Choices in model features\n",
        "\n",
        "The following is the covariates chosen for the respective models: \n",
        "\n",
        "<img src=\"https://github.com/zaknbur/pycon-2017-eda-tutorial/blob/master/notebooks/1-RedCard-EDA/figures/covariates.png?raw=1\" width=80%;>\n",
        "\n",
        "\n",
        "### Choices in modeling\n",
        "\n",
        "Of the many choices made by the team, here is a small selection of the models used to answer this question:\n",
        "\n",
        "\n",
        "<img src=\"https://github.com/zaknbur/pycon-2017-eda-tutorial/blob/master/notebooks/1-RedCard-EDA/figures/models.png?raw=1\" width=80%;>\n",
        "\n",
        "\n",
        "## Final Results\n",
        "\n",
        " - 0 teams: negative effect\n",
        " - 9 teams: no significant relationship\n",
        " - 20 teams: finding a positive effect\n",
        "\n",
        "<img src=\"https://github.com/zaknbur/pycon-2017-eda-tutorial/blob/master/notebooks/1-RedCard-EDA/figures/results.png?raw=1\" width=80%;>\n",
        "\n",
        "Above image from: http://fivethirtyeight.com/features/science-isnt-broken/#part2\n",
        "\n",
        "\n",
        "> â¦selecting randomly from the present teams, there would have been a 69% probability of reporting a positive result and a 31% probability of reporting a null effect. This raises the possibility that many research projects contain hidden uncertainty due to the wide range of analytic choices available to the researchers. -- Silberzahn, R., Uhlmann, E. L., Martin, D. P., Pasquale, Aust, F., Awtrey, E. C., â¦ Nosek, B. A. (2015, August 20). Many analysts, one dataset: Making transparent how variations in analytical choices affect results. Retrieved from osf.io/gvm2z\n",
        "\n",
        "\n",
        "Images and data from: Silberzahn, R., Uhlmann, E. L., Martin, D. P., Pasquale, Aust, F., Awtrey, E. C., â¦ Nosek, B. A. (2015, August 20). Many analysts, one dataset: Making transparent how variations in analytical choices affect results. Retrieved from osf.io/gvm2z"
      ]
    },
    {
      "cell_type": "markdown",
      "metadata": {
        "id": "HlKPzCiIubxl",
        "colab_type": "text"
      },
      "source": [
        "## General tips\n",
        "\n",
        "- Before plotting/joining/doing something, have a question or hypothesis that you want to investigate\n",
        "- Draw a plot of what you want to see on paper to sketch the idea\n",
        "- Write it down, then make the plan on how to get there\n",
        "- How do you know you aren't fooling yourself\n",
        "- What else can I check if this is actually true?\n",
        "- What evidence could there be that it's wrong?\n"
      ]
    },
    {
      "cell_type": "code",
      "metadata": {
        "id": "hKrEQV3lubxn",
        "colab_type": "code",
        "colab": {}
      },
      "source": [
        "# Uncomment one of the following lines and run the cell:\n",
        "\n",
        "#df = pd.read_csv(\"../data/redcard/redcard.csv.gz\", compression='gzip')\n",
        "df = pd.read_csv(\"https://github.com/cmawer/pycon-2017-eda-tutorial/raw/master/data/redcard/redcard.csv.gz\",\n",
        "                 compression='gzip')"
      ],
      "execution_count": 0,
      "outputs": []
    },
    {
      "cell_type": "code",
      "metadata": {
        "id": "D4URAHDjubxs",
        "colab_type": "code",
        "colab": {
          "base_uri": "https://localhost:8080/",
          "height": 34
        },
        "outputId": "8567ab5c-fe10-4ecb-93e7-d08d746a5885"
      },
      "source": [
        "df.shape"
      ],
      "execution_count": 6,
      "outputs": [
        {
          "output_type": "execute_result",
          "data": {
            "text/plain": [
              "(146028, 28)"
            ]
          },
          "metadata": {
            "tags": []
          },
          "execution_count": 6
        }
      ]
    },
    {
      "cell_type": "code",
      "metadata": {
        "id": "ADTVAC_Bubxz",
        "colab_type": "code",
        "colab": {
          "base_uri": "https://localhost:8080/",
          "height": 309
        },
        "outputId": "96e45046-0651-45e8-92be-8e48eebe78c8"
      },
      "source": [
        "df.head()"
      ],
      "execution_count": 7,
      "outputs": [
        {
          "output_type": "execute_result",
          "data": {
            "text/html": [
              "<div>\n",
              "<style scoped>\n",
              "    .dataframe tbody tr th:only-of-type {\n",
              "        vertical-align: middle;\n",
              "    }\n",
              "\n",
              "    .dataframe tbody tr th {\n",
              "        vertical-align: top;\n",
              "    }\n",
              "\n",
              "    .dataframe thead th {\n",
              "        text-align: right;\n",
              "    }\n",
              "</style>\n",
              "<table border=\"1\" class=\"dataframe\">\n",
              "  <thead>\n",
              "    <tr style=\"text-align: right;\">\n",
              "      <th></th>\n",
              "      <th>playerShort</th>\n",
              "      <th>player</th>\n",
              "      <th>club</th>\n",
              "      <th>leagueCountry</th>\n",
              "      <th>birthday</th>\n",
              "      <th>height</th>\n",
              "      <th>weight</th>\n",
              "      <th>position</th>\n",
              "      <th>games</th>\n",
              "      <th>victories</th>\n",
              "      <th>ties</th>\n",
              "      <th>defeats</th>\n",
              "      <th>goals</th>\n",
              "      <th>yellowCards</th>\n",
              "      <th>yellowReds</th>\n",
              "      <th>redCards</th>\n",
              "      <th>photoID</th>\n",
              "      <th>rater1</th>\n",
              "      <th>rater2</th>\n",
              "      <th>refNum</th>\n",
              "      <th>refCountry</th>\n",
              "      <th>Alpha_3</th>\n",
              "      <th>meanIAT</th>\n",
              "      <th>nIAT</th>\n",
              "      <th>seIAT</th>\n",
              "      <th>meanExp</th>\n",
              "      <th>nExp</th>\n",
              "      <th>seExp</th>\n",
              "    </tr>\n",
              "  </thead>\n",
              "  <tbody>\n",
              "    <tr>\n",
              "      <th>0</th>\n",
              "      <td>lucas-wilchez</td>\n",
              "      <td>Lucas Wilchez</td>\n",
              "      <td>Real Zaragoza</td>\n",
              "      <td>Spain</td>\n",
              "      <td>31.08.1983</td>\n",
              "      <td>177.0</td>\n",
              "      <td>72.0</td>\n",
              "      <td>Attacking Midfielder</td>\n",
              "      <td>1</td>\n",
              "      <td>0</td>\n",
              "      <td>0</td>\n",
              "      <td>1</td>\n",
              "      <td>0</td>\n",
              "      <td>0</td>\n",
              "      <td>0</td>\n",
              "      <td>0</td>\n",
              "      <td>95212.jpg</td>\n",
              "      <td>0.25</td>\n",
              "      <td>0.50</td>\n",
              "      <td>1</td>\n",
              "      <td>1</td>\n",
              "      <td>GRC</td>\n",
              "      <td>0.326391</td>\n",
              "      <td>712.0</td>\n",
              "      <td>0.000564</td>\n",
              "      <td>0.396000</td>\n",
              "      <td>750.0</td>\n",
              "      <td>0.002696</td>\n",
              "    </tr>\n",
              "    <tr>\n",
              "      <th>1</th>\n",
              "      <td>john-utaka</td>\n",
              "      <td>John Utaka</td>\n",
              "      <td>Montpellier HSC</td>\n",
              "      <td>France</td>\n",
              "      <td>08.01.1982</td>\n",
              "      <td>179.0</td>\n",
              "      <td>82.0</td>\n",
              "      <td>Right Winger</td>\n",
              "      <td>1</td>\n",
              "      <td>0</td>\n",
              "      <td>0</td>\n",
              "      <td>1</td>\n",
              "      <td>0</td>\n",
              "      <td>1</td>\n",
              "      <td>0</td>\n",
              "      <td>0</td>\n",
              "      <td>1663.jpg</td>\n",
              "      <td>0.75</td>\n",
              "      <td>0.75</td>\n",
              "      <td>2</td>\n",
              "      <td>2</td>\n",
              "      <td>ZMB</td>\n",
              "      <td>0.203375</td>\n",
              "      <td>40.0</td>\n",
              "      <td>0.010875</td>\n",
              "      <td>-0.204082</td>\n",
              "      <td>49.0</td>\n",
              "      <td>0.061504</td>\n",
              "    </tr>\n",
              "    <tr>\n",
              "      <th>2</th>\n",
              "      <td>abdon-prats</td>\n",
              "      <td>Abdón Prats</td>\n",
              "      <td>RCD Mallorca</td>\n",
              "      <td>Spain</td>\n",
              "      <td>17.12.1992</td>\n",
              "      <td>181.0</td>\n",
              "      <td>79.0</td>\n",
              "      <td>NaN</td>\n",
              "      <td>1</td>\n",
              "      <td>0</td>\n",
              "      <td>1</td>\n",
              "      <td>0</td>\n",
              "      <td>0</td>\n",
              "      <td>1</td>\n",
              "      <td>0</td>\n",
              "      <td>0</td>\n",
              "      <td>NaN</td>\n",
              "      <td>NaN</td>\n",
              "      <td>NaN</td>\n",
              "      <td>3</td>\n",
              "      <td>3</td>\n",
              "      <td>ESP</td>\n",
              "      <td>0.369894</td>\n",
              "      <td>1785.0</td>\n",
              "      <td>0.000229</td>\n",
              "      <td>0.588297</td>\n",
              "      <td>1897.0</td>\n",
              "      <td>0.001002</td>\n",
              "    </tr>\n",
              "    <tr>\n",
              "      <th>3</th>\n",
              "      <td>pablo-mari</td>\n",
              "      <td>Pablo Marí</td>\n",
              "      <td>RCD Mallorca</td>\n",
              "      <td>Spain</td>\n",
              "      <td>31.08.1993</td>\n",
              "      <td>191.0</td>\n",
              "      <td>87.0</td>\n",
              "      <td>Center Back</td>\n",
              "      <td>1</td>\n",
              "      <td>1</td>\n",
              "      <td>0</td>\n",
              "      <td>0</td>\n",
              "      <td>0</td>\n",
              "      <td>0</td>\n",
              "      <td>0</td>\n",
              "      <td>0</td>\n",
              "      <td>NaN</td>\n",
              "      <td>NaN</td>\n",
              "      <td>NaN</td>\n",
              "      <td>3</td>\n",
              "      <td>3</td>\n",
              "      <td>ESP</td>\n",
              "      <td>0.369894</td>\n",
              "      <td>1785.0</td>\n",
              "      <td>0.000229</td>\n",
              "      <td>0.588297</td>\n",
              "      <td>1897.0</td>\n",
              "      <td>0.001002</td>\n",
              "    </tr>\n",
              "    <tr>\n",
              "      <th>4</th>\n",
              "      <td>ruben-pena</td>\n",
              "      <td>Rubén Peña</td>\n",
              "      <td>Real Valladolid</td>\n",
              "      <td>Spain</td>\n",
              "      <td>18.07.1991</td>\n",
              "      <td>172.0</td>\n",
              "      <td>70.0</td>\n",
              "      <td>Right Midfielder</td>\n",
              "      <td>1</td>\n",
              "      <td>1</td>\n",
              "      <td>0</td>\n",
              "      <td>0</td>\n",
              "      <td>0</td>\n",
              "      <td>0</td>\n",
              "      <td>0</td>\n",
              "      <td>0</td>\n",
              "      <td>NaN</td>\n",
              "      <td>NaN</td>\n",
              "      <td>NaN</td>\n",
              "      <td>3</td>\n",
              "      <td>3</td>\n",
              "      <td>ESP</td>\n",
              "      <td>0.369894</td>\n",
              "      <td>1785.0</td>\n",
              "      <td>0.000229</td>\n",
              "      <td>0.588297</td>\n",
              "      <td>1897.0</td>\n",
              "      <td>0.001002</td>\n",
              "    </tr>\n",
              "  </tbody>\n",
              "</table>\n",
              "</div>"
            ],
            "text/plain": [
              "     playerShort         player             club  ...   meanExp    nExp     seExp\n",
              "0  lucas-wilchez  Lucas Wilchez    Real Zaragoza  ...  0.396000   750.0  0.002696\n",
              "1     john-utaka     John Utaka  Montpellier HSC  ... -0.204082    49.0  0.061504\n",
              "2    abdon-prats    Abdón Prats     RCD Mallorca  ...  0.588297  1897.0  0.001002\n",
              "3     pablo-mari     Pablo Marí     RCD Mallorca  ...  0.588297  1897.0  0.001002\n",
              "4     ruben-pena     Rubén Peña  Real Valladolid  ...  0.588297  1897.0  0.001002\n",
              "\n",
              "[5 rows x 28 columns]"
            ]
          },
          "metadata": {
            "tags": []
          },
          "execution_count": 7
        }
      ]
    },
    {
      "cell_type": "code",
      "metadata": {
        "id": "DsurgugSubx6",
        "colab_type": "code",
        "colab": {
          "base_uri": "https://localhost:8080/",
          "height": 669
        },
        "outputId": "4ef7e797-7106-40b6-ee6c-2e1a889498c8"
      },
      "source": [
        "df.describe().T"
      ],
      "execution_count": 8,
      "outputs": [
        {
          "output_type": "execute_result",
          "data": {
            "text/html": [
              "<div>\n",
              "<style scoped>\n",
              "    .dataframe tbody tr th:only-of-type {\n",
              "        vertical-align: middle;\n",
              "    }\n",
              "\n",
              "    .dataframe tbody tr th {\n",
              "        vertical-align: top;\n",
              "    }\n",
              "\n",
              "    .dataframe thead th {\n",
              "        text-align: right;\n",
              "    }\n",
              "</style>\n",
              "<table border=\"1\" class=\"dataframe\">\n",
              "  <thead>\n",
              "    <tr style=\"text-align: right;\">\n",
              "      <th></th>\n",
              "      <th>count</th>\n",
              "      <th>mean</th>\n",
              "      <th>std</th>\n",
              "      <th>min</th>\n",
              "      <th>25%</th>\n",
              "      <th>50%</th>\n",
              "      <th>75%</th>\n",
              "      <th>max</th>\n",
              "    </tr>\n",
              "  </thead>\n",
              "  <tbody>\n",
              "    <tr>\n",
              "      <th>height</th>\n",
              "      <td>145765.0</td>\n",
              "      <td>181.935938</td>\n",
              "      <td>6.738726</td>\n",
              "      <td>1.610000e+02</td>\n",
              "      <td>177.000000</td>\n",
              "      <td>182.000000</td>\n",
              "      <td>187.000000</td>\n",
              "      <td>2.030000e+02</td>\n",
              "    </tr>\n",
              "    <tr>\n",
              "      <th>weight</th>\n",
              "      <td>143785.0</td>\n",
              "      <td>76.075662</td>\n",
              "      <td>7.140906</td>\n",
              "      <td>5.400000e+01</td>\n",
              "      <td>71.000000</td>\n",
              "      <td>76.000000</td>\n",
              "      <td>81.000000</td>\n",
              "      <td>1.000000e+02</td>\n",
              "    </tr>\n",
              "    <tr>\n",
              "      <th>games</th>\n",
              "      <td>146028.0</td>\n",
              "      <td>2.921166</td>\n",
              "      <td>3.413633</td>\n",
              "      <td>1.000000e+00</td>\n",
              "      <td>1.000000</td>\n",
              "      <td>2.000000</td>\n",
              "      <td>3.000000</td>\n",
              "      <td>4.700000e+01</td>\n",
              "    </tr>\n",
              "    <tr>\n",
              "      <th>victories</th>\n",
              "      <td>146028.0</td>\n",
              "      <td>1.278344</td>\n",
              "      <td>1.790725</td>\n",
              "      <td>0.000000e+00</td>\n",
              "      <td>0.000000</td>\n",
              "      <td>1.000000</td>\n",
              "      <td>2.000000</td>\n",
              "      <td>2.900000e+01</td>\n",
              "    </tr>\n",
              "    <tr>\n",
              "      <th>ties</th>\n",
              "      <td>146028.0</td>\n",
              "      <td>0.708241</td>\n",
              "      <td>1.116793</td>\n",
              "      <td>0.000000e+00</td>\n",
              "      <td>0.000000</td>\n",
              "      <td>0.000000</td>\n",
              "      <td>1.000000</td>\n",
              "      <td>1.400000e+01</td>\n",
              "    </tr>\n",
              "    <tr>\n",
              "      <th>defeats</th>\n",
              "      <td>146028.0</td>\n",
              "      <td>0.934581</td>\n",
              "      <td>1.383059</td>\n",
              "      <td>0.000000e+00</td>\n",
              "      <td>0.000000</td>\n",
              "      <td>1.000000</td>\n",
              "      <td>1.000000</td>\n",
              "      <td>1.800000e+01</td>\n",
              "    </tr>\n",
              "    <tr>\n",
              "      <th>goals</th>\n",
              "      <td>146028.0</td>\n",
              "      <td>0.338058</td>\n",
              "      <td>0.906481</td>\n",
              "      <td>0.000000e+00</td>\n",
              "      <td>0.000000</td>\n",
              "      <td>0.000000</td>\n",
              "      <td>0.000000</td>\n",
              "      <td>2.300000e+01</td>\n",
              "    </tr>\n",
              "    <tr>\n",
              "      <th>yellowCards</th>\n",
              "      <td>146028.0</td>\n",
              "      <td>0.385364</td>\n",
              "      <td>0.795333</td>\n",
              "      <td>0.000000e+00</td>\n",
              "      <td>0.000000</td>\n",
              "      <td>0.000000</td>\n",
              "      <td>1.000000</td>\n",
              "      <td>1.400000e+01</td>\n",
              "    </tr>\n",
              "    <tr>\n",
              "      <th>yellowReds</th>\n",
              "      <td>146028.0</td>\n",
              "      <td>0.011381</td>\n",
              "      <td>0.107931</td>\n",
              "      <td>0.000000e+00</td>\n",
              "      <td>0.000000</td>\n",
              "      <td>0.000000</td>\n",
              "      <td>0.000000</td>\n",
              "      <td>3.000000e+00</td>\n",
              "    </tr>\n",
              "    <tr>\n",
              "      <th>redCards</th>\n",
              "      <td>146028.0</td>\n",
              "      <td>0.012559</td>\n",
              "      <td>0.112889</td>\n",
              "      <td>0.000000e+00</td>\n",
              "      <td>0.000000</td>\n",
              "      <td>0.000000</td>\n",
              "      <td>0.000000</td>\n",
              "      <td>2.000000e+00</td>\n",
              "    </tr>\n",
              "    <tr>\n",
              "      <th>rater1</th>\n",
              "      <td>124621.0</td>\n",
              "      <td>0.264255</td>\n",
              "      <td>0.295382</td>\n",
              "      <td>0.000000e+00</td>\n",
              "      <td>0.000000</td>\n",
              "      <td>0.250000</td>\n",
              "      <td>0.250000</td>\n",
              "      <td>1.000000e+00</td>\n",
              "    </tr>\n",
              "    <tr>\n",
              "      <th>rater2</th>\n",
              "      <td>124621.0</td>\n",
              "      <td>0.302862</td>\n",
              "      <td>0.293020</td>\n",
              "      <td>0.000000e+00</td>\n",
              "      <td>0.000000</td>\n",
              "      <td>0.250000</td>\n",
              "      <td>0.500000</td>\n",
              "      <td>1.000000e+00</td>\n",
              "    </tr>\n",
              "    <tr>\n",
              "      <th>refNum</th>\n",
              "      <td>146028.0</td>\n",
              "      <td>1534.827444</td>\n",
              "      <td>918.736625</td>\n",
              "      <td>1.000000e+00</td>\n",
              "      <td>641.000000</td>\n",
              "      <td>1604.000000</td>\n",
              "      <td>2345.000000</td>\n",
              "      <td>3.147000e+03</td>\n",
              "    </tr>\n",
              "    <tr>\n",
              "      <th>refCountry</th>\n",
              "      <td>146028.0</td>\n",
              "      <td>29.642842</td>\n",
              "      <td>27.496189</td>\n",
              "      <td>1.000000e+00</td>\n",
              "      <td>7.000000</td>\n",
              "      <td>21.000000</td>\n",
              "      <td>44.000000</td>\n",
              "      <td>1.610000e+02</td>\n",
              "    </tr>\n",
              "    <tr>\n",
              "      <th>meanIAT</th>\n",
              "      <td>145865.0</td>\n",
              "      <td>0.346276</td>\n",
              "      <td>0.032246</td>\n",
              "      <td>-4.725423e-02</td>\n",
              "      <td>0.334684</td>\n",
              "      <td>0.336628</td>\n",
              "      <td>0.369894</td>\n",
              "      <td>5.737933e-01</td>\n",
              "    </tr>\n",
              "    <tr>\n",
              "      <th>nIAT</th>\n",
              "      <td>145865.0</td>\n",
              "      <td>19697.411216</td>\n",
              "      <td>127126.197143</td>\n",
              "      <td>2.000000e+00</td>\n",
              "      <td>1785.000000</td>\n",
              "      <td>2882.000000</td>\n",
              "      <td>7749.000000</td>\n",
              "      <td>1.975803e+06</td>\n",
              "    </tr>\n",
              "    <tr>\n",
              "      <th>seIAT</th>\n",
              "      <td>145865.0</td>\n",
              "      <td>0.000631</td>\n",
              "      <td>0.004736</td>\n",
              "      <td>2.235373e-07</td>\n",
              "      <td>0.000055</td>\n",
              "      <td>0.000151</td>\n",
              "      <td>0.000229</td>\n",
              "      <td>2.862871e-01</td>\n",
              "    </tr>\n",
              "    <tr>\n",
              "      <th>meanExp</th>\n",
              "      <td>145865.0</td>\n",
              "      <td>0.452026</td>\n",
              "      <td>0.217469</td>\n",
              "      <td>-1.375000e+00</td>\n",
              "      <td>0.336101</td>\n",
              "      <td>0.356446</td>\n",
              "      <td>0.588297</td>\n",
              "      <td>1.800000e+00</td>\n",
              "    </tr>\n",
              "    <tr>\n",
              "      <th>nExp</th>\n",
              "      <td>145865.0</td>\n",
              "      <td>20440.233860</td>\n",
              "      <td>130615.745103</td>\n",
              "      <td>2.000000e+00</td>\n",
              "      <td>1897.000000</td>\n",
              "      <td>3011.000000</td>\n",
              "      <td>7974.000000</td>\n",
              "      <td>2.029548e+06</td>\n",
              "    </tr>\n",
              "    <tr>\n",
              "      <th>seExp</th>\n",
              "      <td>145865.0</td>\n",
              "      <td>0.002994</td>\n",
              "      <td>0.019723</td>\n",
              "      <td>1.043334e-06</td>\n",
              "      <td>0.000225</td>\n",
              "      <td>0.000586</td>\n",
              "      <td>0.001002</td>\n",
              "      <td>1.060660e+00</td>\n",
              "    </tr>\n",
              "  </tbody>\n",
              "</table>\n",
              "</div>"
            ],
            "text/plain": [
              "                count          mean  ...          75%           max\n",
              "height       145765.0    181.935938  ...   187.000000  2.030000e+02\n",
              "weight       143785.0     76.075662  ...    81.000000  1.000000e+02\n",
              "games        146028.0      2.921166  ...     3.000000  4.700000e+01\n",
              "victories    146028.0      1.278344  ...     2.000000  2.900000e+01\n",
              "ties         146028.0      0.708241  ...     1.000000  1.400000e+01\n",
              "defeats      146028.0      0.934581  ...     1.000000  1.800000e+01\n",
              "goals        146028.0      0.338058  ...     0.000000  2.300000e+01\n",
              "yellowCards  146028.0      0.385364  ...     1.000000  1.400000e+01\n",
              "yellowReds   146028.0      0.011381  ...     0.000000  3.000000e+00\n",
              "redCards     146028.0      0.012559  ...     0.000000  2.000000e+00\n",
              "rater1       124621.0      0.264255  ...     0.250000  1.000000e+00\n",
              "rater2       124621.0      0.302862  ...     0.500000  1.000000e+00\n",
              "refNum       146028.0   1534.827444  ...  2345.000000  3.147000e+03\n",
              "refCountry   146028.0     29.642842  ...    44.000000  1.610000e+02\n",
              "meanIAT      145865.0      0.346276  ...     0.369894  5.737933e-01\n",
              "nIAT         145865.0  19697.411216  ...  7749.000000  1.975803e+06\n",
              "seIAT        145865.0      0.000631  ...     0.000229  2.862871e-01\n",
              "meanExp      145865.0      0.452026  ...     0.588297  1.800000e+00\n",
              "nExp         145865.0  20440.233860  ...  7974.000000  2.029548e+06\n",
              "seExp        145865.0      0.002994  ...     0.001002  1.060660e+00\n",
              "\n",
              "[20 rows x 8 columns]"
            ]
          },
          "metadata": {
            "tags": []
          },
          "execution_count": 8
        }
      ]
    },
    {
      "cell_type": "code",
      "metadata": {
        "id": "HsiSx--AubyA",
        "colab_type": "code",
        "colab": {
          "base_uri": "https://localhost:8080/",
          "height": 510
        },
        "outputId": "b3b3ff22-950d-4ff6-859b-1472d86a67f7"
      },
      "source": [
        "df.dtypes"
      ],
      "execution_count": 9,
      "outputs": [
        {
          "output_type": "execute_result",
          "data": {
            "text/plain": [
              "playerShort       object\n",
              "player            object\n",
              "club              object\n",
              "leagueCountry     object\n",
              "birthday          object\n",
              "height           float64\n",
              "weight           float64\n",
              "position          object\n",
              "games              int64\n",
              "victories          int64\n",
              "ties               int64\n",
              "defeats            int64\n",
              "goals              int64\n",
              "yellowCards        int64\n",
              "yellowReds         int64\n",
              "redCards           int64\n",
              "photoID           object\n",
              "rater1           float64\n",
              "rater2           float64\n",
              "refNum             int64\n",
              "refCountry         int64\n",
              "Alpha_3           object\n",
              "meanIAT          float64\n",
              "nIAT             float64\n",
              "seIAT            float64\n",
              "meanExp          float64\n",
              "nExp             float64\n",
              "seExp            float64\n",
              "dtype: object"
            ]
          },
          "metadata": {
            "tags": []
          },
          "execution_count": 9
        }
      ]
    },
    {
      "cell_type": "code",
      "metadata": {
        "id": "cQWWs-1OubyI",
        "colab_type": "code",
        "colab": {
          "base_uri": "https://localhost:8080/",
          "height": 493
        },
        "outputId": "4482921b-5ef2-4210-a633-3af9ec026444"
      },
      "source": [
        "all_columns = df.columns.tolist()\n",
        "all_columns"
      ],
      "execution_count": 10,
      "outputs": [
        {
          "output_type": "execute_result",
          "data": {
            "text/plain": [
              "['playerShort',\n",
              " 'player',\n",
              " 'club',\n",
              " 'leagueCountry',\n",
              " 'birthday',\n",
              " 'height',\n",
              " 'weight',\n",
              " 'position',\n",
              " 'games',\n",
              " 'victories',\n",
              " 'ties',\n",
              " 'defeats',\n",
              " 'goals',\n",
              " 'yellowCards',\n",
              " 'yellowReds',\n",
              " 'redCards',\n",
              " 'photoID',\n",
              " 'rater1',\n",
              " 'rater2',\n",
              " 'refNum',\n",
              " 'refCountry',\n",
              " 'Alpha_3',\n",
              " 'meanIAT',\n",
              " 'nIAT',\n",
              " 'seIAT',\n",
              " 'meanExp',\n",
              " 'nExp',\n",
              " 'seExp']"
            ]
          },
          "metadata": {
            "tags": []
          },
          "execution_count": 10
        }
      ]
    },
    {
      "cell_type": "markdown",
      "metadata": {
        "id": "if6vYrmHubyO",
        "colab_type": "text"
      },
      "source": [
        "## Challenge\n",
        "\n",
        "Before looking below, try to answer some high level questions about the dataset. \n",
        "\n",
        "\n",
        "How do we operationalize the question of referees giving more red cards to dark skinned players?\n",
        "* Counterfactual: if the player were lighter, a ref is more likely to have given a yellow or no card **for the same offense under the same conditions**\n",
        "* Regression: accounting for confounding, darker players have positive coefficient on regression against proportion red/total card\n",
        "\n",
        "Potential issues\n",
        "* How to combine rater1 and rater2? Average them? What if they disagree? Throw it out?\n",
        "* Is data imbalanced, i.e. red cards are very rare?\n",
        "* Is data biased, i.e. players have different amounts of play time? Is this a summary of their whole career?\n",
        "* How do I know I've accounted for all forms of confounding?\n",
        "\n",
        "**First, is there systematic discrimination across all refs?**\n",
        "\n",
        "Exploration/hypotheses:\n",
        "* Distribution of games played\n",
        "* red cards vs games played\n",
        "* Reds per game played vs total cards per game played by skin color\n",
        "* Distribution of # red, # yellow, total cards, and fraction red per game played for all players by avg skin color\n",
        "* How many refs did players encounter?\n",
        "* Do some clubs play more aggresively and get carded more? Or are more reserved and get less?\n",
        "* Does carding vary by leagueCountry?\n",
        "* Do high scorers get more slack (fewer cards) for the same position?\n",
        "* Are there some referees that give more red/yellow cards than others?\n",
        "* how consistent are raters? Check with Cohen's kappa.\n",
        "* how do red cards vary by position? e.g. defenders get more?\n",
        "* Do players with more games get more cards, and is there difference across skin color?\n",
        "* indication of bias depending on refCountry?"
      ]
    },
    {
      "cell_type": "markdown",
      "metadata": {
        "id": "pZnyqeAZubyP",
        "colab_type": "text"
      },
      "source": [
        "## Understand how the data's organized\n",
        "\n",
        "The dataset is a single csv where it aggregated every interaction between referee and player into a single row. In other words: Referee A refereed Player B in, say, 10 games, and gave 2 redcards during those 10 games. Then there would be a unique row in the dataset that said: \n",
        "\n",
        "    Referee A, Player B, 2 redcards, ... \n",
        "\n",
        "This has several implications that make this first step to understanding and dealing with this data a bit tricky. First, is that the information about Player B is repeated each time -- meaning if we did a simple average of some metric of we would likely get a misleading result. \n",
        "\n",
        "For example, asking \"what is the average `weight` of the players?\""
      ]
    },
    {
      "cell_type": "code",
      "metadata": {
        "id": "lfDwTsMNubyS",
        "colab_type": "code",
        "colab": {
          "base_uri": "https://localhost:8080/",
          "height": 34
        },
        "outputId": "94d239f2-33ef-4fd8-a85e-26883e3e7d62"
      },
      "source": [
        "df.height.mean()"
      ],
      "execution_count": 11,
      "outputs": [
        {
          "output_type": "execute_result",
          "data": {
            "text/plain": [
              "181.93593798236887"
            ]
          },
          "metadata": {
            "tags": []
          },
          "execution_count": 11
        }
      ]
    },
    {
      "cell_type": "code",
      "metadata": {
        "id": "4g7Lh7wAubyY",
        "colab_type": "code",
        "colab": {
          "base_uri": "https://localhost:8080/",
          "height": 34
        },
        "outputId": "59618f69-6d1a-4710-fdef-ea16dec4f37a"
      },
      "source": [
        "df['height'].mean()"
      ],
      "execution_count": 12,
      "outputs": [
        {
          "output_type": "execute_result",
          "data": {
            "text/plain": [
              "181.93593798236887"
            ]
          },
          "metadata": {
            "tags": []
          },
          "execution_count": 12
        }
      ]
    },
    {
      "cell_type": "code",
      "metadata": {
        "tags": [
          "solution"
        ],
        "id": "AAS65lBxubyj",
        "colab_type": "code",
        "colab": {
          "base_uri": "https://localhost:8080/",
          "height": 34
        },
        "outputId": "62a190b9-4dfd-4388-924f-5bdc8efe0017"
      },
      "source": [
        "np.mean(df.groupby('playerShort').height.mean())"
      ],
      "execution_count": 13,
      "outputs": [
        {
          "output_type": "execute_result",
          "data": {
            "text/plain": [
              "181.74372848007872"
            ]
          },
          "metadata": {
            "tags": []
          },
          "execution_count": 13
        }
      ]
    },
    {
      "cell_type": "markdown",
      "metadata": {
        "id": "2sSfUMyJubyq",
        "colab_type": "text"
      },
      "source": [
        "Doing a simple average over the rows will risk double-counting the same player multiple times, for a skewed average. The simple (incorrect) average is ~76.075 kg, but the average weight of the players is ~75.639 kg. There are multiple ways of doing this, but doing a groupby on player makes it so that so each player gets counted exactly once.\n",
        "\n",
        "Not a huge difference in this case but already an illustration of some difficulty."
      ]
    },
    {
      "cell_type": "markdown",
      "metadata": {
        "id": "VtXVQi5Zubyr",
        "colab_type": "text"
      },
      "source": [
        "## Tidy Data\n",
        "\n",
        "Hadley Wickham's concept of a **tidy dataset** summarized as:\n",
        "\n",
        ">  - Each variable forms a column\n",
        ">  - Each observation forms a row\n",
        ">  - Each type of observational unit forms a table\n",
        "\n",
        "A longer paper describing this can be found in this [pdf](https://www.jstatsoft.org/article/view/v059i10/v59i10.pdf).\n",
        "\n",
        "Having datasets in this form allows for much simpler analyses. So the first step is to try and clean up the dataset into a tidy dataset. \n",
        "\n",
        "The first step that I am going to take is to break up the dataset into the different observational units. By that I'm going to have separate tables (or dataframes) for: \n",
        "\n",
        " - players\n",
        " - clubs\n",
        " - referees\n",
        " - countries\n",
        " - dyads"
      ]
    },
    {
      "cell_type": "markdown",
      "metadata": {
        "id": "y234dvg9ubyt",
        "colab_type": "text"
      },
      "source": [
        "## Create Tidy Players Table"
      ]
    },
    {
      "cell_type": "code",
      "metadata": {
        "id": "SZ0_IV82ubyu",
        "colab_type": "code",
        "colab": {}
      },
      "source": [
        "player_index = 'playerShort'\n",
        "player_cols = [#'player', # drop player name, we have unique identifier\n",
        "               'birthday',\n",
        "               'height',\n",
        "               'weight',\n",
        "               'position',\n",
        "               'photoID',\n",
        "               'rater1',\n",
        "               'rater2',\n",
        "              ]"
      ],
      "execution_count": 0,
      "outputs": []
    },
    {
      "cell_type": "code",
      "metadata": {
        "id": "el_OYx1Nuby0",
        "colab_type": "code",
        "colab": {}
      },
      "source": [
        "# Count the unique variables (if we got different weight values, \n",
        "# for example, then we should get more than one unique value in this groupby)\n",
        "all_cols_unique_players = df.groupby('playerShort').agg({col:'nunique' for col in player_cols})"
      ],
      "execution_count": 0,
      "outputs": []
    },
    {
      "cell_type": "code",
      "metadata": {
        "id": "PI7_dB05uby8",
        "colab_type": "code",
        "colab": {
          "base_uri": "https://localhost:8080/",
          "height": 235
        },
        "outputId": "b2fab4c5-df1e-4222-988b-ec72777ac21e"
      },
      "source": [
        "all_cols_unique_players.head()"
      ],
      "execution_count": 16,
      "outputs": [
        {
          "output_type": "execute_result",
          "data": {
            "text/html": [
              "<div>\n",
              "<style scoped>\n",
              "    .dataframe tbody tr th:only-of-type {\n",
              "        vertical-align: middle;\n",
              "    }\n",
              "\n",
              "    .dataframe tbody tr th {\n",
              "        vertical-align: top;\n",
              "    }\n",
              "\n",
              "    .dataframe thead th {\n",
              "        text-align: right;\n",
              "    }\n",
              "</style>\n",
              "<table border=\"1\" class=\"dataframe\">\n",
              "  <thead>\n",
              "    <tr style=\"text-align: right;\">\n",
              "      <th></th>\n",
              "      <th>birthday</th>\n",
              "      <th>height</th>\n",
              "      <th>weight</th>\n",
              "      <th>position</th>\n",
              "      <th>photoID</th>\n",
              "      <th>rater1</th>\n",
              "      <th>rater2</th>\n",
              "    </tr>\n",
              "    <tr>\n",
              "      <th>playerShort</th>\n",
              "      <th></th>\n",
              "      <th></th>\n",
              "      <th></th>\n",
              "      <th></th>\n",
              "      <th></th>\n",
              "      <th></th>\n",
              "      <th></th>\n",
              "    </tr>\n",
              "  </thead>\n",
              "  <tbody>\n",
              "    <tr>\n",
              "      <th>aaron-hughes</th>\n",
              "      <td>1</td>\n",
              "      <td>1</td>\n",
              "      <td>1</td>\n",
              "      <td>1</td>\n",
              "      <td>1</td>\n",
              "      <td>1</td>\n",
              "      <td>1</td>\n",
              "    </tr>\n",
              "    <tr>\n",
              "      <th>aaron-hunt</th>\n",
              "      <td>1</td>\n",
              "      <td>1</td>\n",
              "      <td>1</td>\n",
              "      <td>1</td>\n",
              "      <td>1</td>\n",
              "      <td>1</td>\n",
              "      <td>1</td>\n",
              "    </tr>\n",
              "    <tr>\n",
              "      <th>aaron-lennon</th>\n",
              "      <td>1</td>\n",
              "      <td>1</td>\n",
              "      <td>1</td>\n",
              "      <td>1</td>\n",
              "      <td>1</td>\n",
              "      <td>1</td>\n",
              "      <td>1</td>\n",
              "    </tr>\n",
              "    <tr>\n",
              "      <th>aaron-ramsey</th>\n",
              "      <td>1</td>\n",
              "      <td>1</td>\n",
              "      <td>1</td>\n",
              "      <td>1</td>\n",
              "      <td>1</td>\n",
              "      <td>1</td>\n",
              "      <td>1</td>\n",
              "    </tr>\n",
              "    <tr>\n",
              "      <th>abdelhamid-el-kaoutari</th>\n",
              "      <td>1</td>\n",
              "      <td>1</td>\n",
              "      <td>1</td>\n",
              "      <td>1</td>\n",
              "      <td>1</td>\n",
              "      <td>1</td>\n",
              "      <td>1</td>\n",
              "    </tr>\n",
              "  </tbody>\n",
              "</table>\n",
              "</div>"
            ],
            "text/plain": [
              "                        birthday  height  weight  ...  photoID  rater1  rater2\n",
              "playerShort                                       ...                         \n",
              "aaron-hughes                   1       1       1  ...        1       1       1\n",
              "aaron-hunt                     1       1       1  ...        1       1       1\n",
              "aaron-lennon                   1       1       1  ...        1       1       1\n",
              "aaron-ramsey                   1       1       1  ...        1       1       1\n",
              "abdelhamid-el-kaoutari         1       1       1  ...        1       1       1\n",
              "\n",
              "[5 rows x 7 columns]"
            ]
          },
          "metadata": {
            "tags": []
          },
          "execution_count": 16
        }
      ]
    },
    {
      "cell_type": "code",
      "metadata": {
        "id": "yZq9UE4-ubzD",
        "colab_type": "code",
        "colab": {
          "base_uri": "https://localhost:8080/",
          "height": 80
        },
        "outputId": "4b59cc2f-a04c-4d2d-c979-4cd8d95bbff7"
      },
      "source": [
        "# If all values are the same per player then this should be empty (and it is!)\n",
        "all_cols_unique_players[all_cols_unique_players > 1].dropna().head()"
      ],
      "execution_count": 17,
      "outputs": [
        {
          "output_type": "execute_result",
          "data": {
            "text/html": [
              "<div>\n",
              "<style scoped>\n",
              "    .dataframe tbody tr th:only-of-type {\n",
              "        vertical-align: middle;\n",
              "    }\n",
              "\n",
              "    .dataframe tbody tr th {\n",
              "        vertical-align: top;\n",
              "    }\n",
              "\n",
              "    .dataframe thead th {\n",
              "        text-align: right;\n",
              "    }\n",
              "</style>\n",
              "<table border=\"1\" class=\"dataframe\">\n",
              "  <thead>\n",
              "    <tr style=\"text-align: right;\">\n",
              "      <th></th>\n",
              "      <th>birthday</th>\n",
              "      <th>height</th>\n",
              "      <th>weight</th>\n",
              "      <th>position</th>\n",
              "      <th>photoID</th>\n",
              "      <th>rater1</th>\n",
              "      <th>rater2</th>\n",
              "    </tr>\n",
              "    <tr>\n",
              "      <th>playerShort</th>\n",
              "      <th></th>\n",
              "      <th></th>\n",
              "      <th></th>\n",
              "      <th></th>\n",
              "      <th></th>\n",
              "      <th></th>\n",
              "      <th></th>\n",
              "    </tr>\n",
              "  </thead>\n",
              "  <tbody>\n",
              "  </tbody>\n",
              "</table>\n",
              "</div>"
            ],
            "text/plain": [
              "Empty DataFrame\n",
              "Columns: [birthday, height, weight, position, photoID, rater1, rater2]\n",
              "Index: []"
            ]
          },
          "metadata": {
            "tags": []
          },
          "execution_count": 17
        }
      ]
    },
    {
      "cell_type": "code",
      "metadata": {
        "id": "7kCxgQIPubzS",
        "colab_type": "code",
        "colab": {
          "base_uri": "https://localhost:8080/",
          "height": 34
        },
        "outputId": "7edd1374-c109-4f16-9da9-7e6439027d1f"
      },
      "source": [
        "# A slightly more elegant way to test the uniqueness\n",
        "all_cols_unique_players[all_cols_unique_players > 1].dropna().shape[0] == 0"
      ],
      "execution_count": 18,
      "outputs": [
        {
          "output_type": "execute_result",
          "data": {
            "text/plain": [
              "True"
            ]
          },
          "metadata": {
            "tags": []
          },
          "execution_count": 18
        }
      ]
    },
    {
      "cell_type": "markdown",
      "metadata": {
        "id": "Bw8FX39lubzi",
        "colab_type": "text"
      },
      "source": [
        "Hooray, our data passed our sanity check. Let's create a function to create a table and run thisÂ check for each table that we create."
      ]
    },
    {
      "cell_type": "code",
      "metadata": {
        "id": "b4fXK6Kjubzk",
        "colab_type": "code",
        "colab": {}
      },
      "source": [
        "def get_subgroup(dataframe, g_index, g_columns):\n",
        "    \"\"\"Helper function that creates a sub-table from the columns and runs a quick uniqueness test.\"\"\"\n",
        "    g = dataframe.groupby(g_index).agg({col:'nunique' for col in g_columns})\n",
        "    if g[g > 1].dropna().shape[0] != 0:\n",
        "        print(\"Warning: you probably assumed this had all unique values but it doesn't.\")\n",
        "    return dataframe.groupby(g_index).agg({col:'max' for col in g_columns})"
      ],
      "execution_count": 0,
      "outputs": []
    },
    {
      "cell_type": "code",
      "metadata": {
        "id": "1MyDQQpMubzq",
        "colab_type": "code",
        "colab": {
          "base_uri": "https://localhost:8080/",
          "height": 235
        },
        "outputId": "28490b5b-3182-4c59-8166-86d3318d6dc9"
      },
      "source": [
        "players = get_subgroup(df, player_index, player_cols)\n",
        "players.head()"
      ],
      "execution_count": 20,
      "outputs": [
        {
          "output_type": "execute_result",
          "data": {
            "text/html": [
              "<div>\n",
              "<style scoped>\n",
              "    .dataframe tbody tr th:only-of-type {\n",
              "        vertical-align: middle;\n",
              "    }\n",
              "\n",
              "    .dataframe tbody tr th {\n",
              "        vertical-align: top;\n",
              "    }\n",
              "\n",
              "    .dataframe thead th {\n",
              "        text-align: right;\n",
              "    }\n",
              "</style>\n",
              "<table border=\"1\" class=\"dataframe\">\n",
              "  <thead>\n",
              "    <tr style=\"text-align: right;\">\n",
              "      <th></th>\n",
              "      <th>birthday</th>\n",
              "      <th>height</th>\n",
              "      <th>weight</th>\n",
              "      <th>position</th>\n",
              "      <th>photoID</th>\n",
              "      <th>rater1</th>\n",
              "      <th>rater2</th>\n",
              "    </tr>\n",
              "    <tr>\n",
              "      <th>playerShort</th>\n",
              "      <th></th>\n",
              "      <th></th>\n",
              "      <th></th>\n",
              "      <th></th>\n",
              "      <th></th>\n",
              "      <th></th>\n",
              "      <th></th>\n",
              "    </tr>\n",
              "  </thead>\n",
              "  <tbody>\n",
              "    <tr>\n",
              "      <th>aaron-hughes</th>\n",
              "      <td>08.11.1979</td>\n",
              "      <td>182.0</td>\n",
              "      <td>71.0</td>\n",
              "      <td>Center Back</td>\n",
              "      <td>3868.jpg</td>\n",
              "      <td>0.25</td>\n",
              "      <td>0.00</td>\n",
              "    </tr>\n",
              "    <tr>\n",
              "      <th>aaron-hunt</th>\n",
              "      <td>04.09.1986</td>\n",
              "      <td>183.0</td>\n",
              "      <td>73.0</td>\n",
              "      <td>Attacking Midfielder</td>\n",
              "      <td>20136.jpg</td>\n",
              "      <td>0.00</td>\n",
              "      <td>0.25</td>\n",
              "    </tr>\n",
              "    <tr>\n",
              "      <th>aaron-lennon</th>\n",
              "      <td>16.04.1987</td>\n",
              "      <td>165.0</td>\n",
              "      <td>63.0</td>\n",
              "      <td>Right Midfielder</td>\n",
              "      <td>13515.jpg</td>\n",
              "      <td>0.25</td>\n",
              "      <td>0.25</td>\n",
              "    </tr>\n",
              "    <tr>\n",
              "      <th>aaron-ramsey</th>\n",
              "      <td>26.12.1990</td>\n",
              "      <td>178.0</td>\n",
              "      <td>76.0</td>\n",
              "      <td>Center Midfielder</td>\n",
              "      <td>94953.jpg</td>\n",
              "      <td>0.00</td>\n",
              "      <td>0.00</td>\n",
              "    </tr>\n",
              "    <tr>\n",
              "      <th>abdelhamid-el-kaoutari</th>\n",
              "      <td>17.03.1990</td>\n",
              "      <td>180.0</td>\n",
              "      <td>73.0</td>\n",
              "      <td>Center Back</td>\n",
              "      <td>124913.jpg</td>\n",
              "      <td>0.25</td>\n",
              "      <td>0.25</td>\n",
              "    </tr>\n",
              "  </tbody>\n",
              "</table>\n",
              "</div>"
            ],
            "text/plain": [
              "                          birthday  height  weight  ...     photoID rater1  rater2\n",
              "playerShort                                         ...                           \n",
              "aaron-hughes            08.11.1979   182.0    71.0  ...    3868.jpg   0.25    0.00\n",
              "aaron-hunt              04.09.1986   183.0    73.0  ...   20136.jpg   0.00    0.25\n",
              "aaron-lennon            16.04.1987   165.0    63.0  ...   13515.jpg   0.25    0.25\n",
              "aaron-ramsey            26.12.1990   178.0    76.0  ...   94953.jpg   0.00    0.00\n",
              "abdelhamid-el-kaoutari  17.03.1990   180.0    73.0  ...  124913.jpg   0.25    0.25\n",
              "\n",
              "[5 rows x 7 columns]"
            ]
          },
          "metadata": {
            "tags": []
          },
          "execution_count": 20
        }
      ]
    },
    {
      "cell_type": "code",
      "metadata": {
        "id": "aiKaqndIubzz",
        "colab_type": "code",
        "colab": {}
      },
      "source": [
        "def save_subgroup(dataframe, g_index, subgroup_name, prefix='raw_'):\n",
        "    save_subgroup_filename = \"\".join([prefix, subgroup_name, \".csv.gz\"])\n",
        "    dataframe.to_csv(save_subgroup_filename, compression='gzip', encoding='UTF-8')\n",
        "    test_df = pd.read_csv(save_subgroup_filename, compression='gzip', index_col=g_index, encoding='UTF-8')\n",
        "    # Test that we recover what we send in\n",
        "    if dataframe.equals(test_df):\n",
        "        print(\"Test-passed: we recover the equivalent subgroup dataframe.\")\n",
        "    else:\n",
        "        print(\"Warning -- equivalence test!!! Double-check.\")"
      ],
      "execution_count": 0,
      "outputs": []
    },
    {
      "cell_type": "code",
      "metadata": {
        "id": "8Mq8L8pAubz4",
        "colab_type": "code",
        "colab": {
          "base_uri": "https://localhost:8080/",
          "height": 34
        },
        "outputId": "31219271-bd9e-4aea-e9d7-a26dbd916611"
      },
      "source": [
        "save_subgroup(players, player_index, \"players\")"
      ],
      "execution_count": 22,
      "outputs": [
        {
          "output_type": "stream",
          "text": [
            "Test-passed: we recover the equivalent subgroup dataframe.\n"
          ],
          "name": "stdout"
        }
      ]
    },
    {
      "cell_type": "markdown",
      "metadata": {
        "id": "A2zdI4qrubz_",
        "colab_type": "text"
      },
      "source": [
        "## Create Tidy Clubs Table\n",
        "\n",
        "Create the clubs table."
      ]
    },
    {
      "cell_type": "code",
      "metadata": {
        "id": "K09wNzFYub0A",
        "colab_type": "code",
        "colab": {
          "base_uri": "https://localhost:8080/",
          "height": 235
        },
        "outputId": "007b1e6f-22da-4a23-b179-2128379ca987"
      },
      "source": [
        "club_index = 'club'\n",
        "club_cols = ['leagueCountry']\n",
        "clubs = get_subgroup(df, club_index, club_cols)\n",
        "clubs.head()"
      ],
      "execution_count": 23,
      "outputs": [
        {
          "output_type": "execute_result",
          "data": {
            "text/html": [
              "<div>\n",
              "<style scoped>\n",
              "    .dataframe tbody tr th:only-of-type {\n",
              "        vertical-align: middle;\n",
              "    }\n",
              "\n",
              "    .dataframe tbody tr th {\n",
              "        vertical-align: top;\n",
              "    }\n",
              "\n",
              "    .dataframe thead th {\n",
              "        text-align: right;\n",
              "    }\n",
              "</style>\n",
              "<table border=\"1\" class=\"dataframe\">\n",
              "  <thead>\n",
              "    <tr style=\"text-align: right;\">\n",
              "      <th></th>\n",
              "      <th>leagueCountry</th>\n",
              "    </tr>\n",
              "    <tr>\n",
              "      <th>club</th>\n",
              "      <th></th>\n",
              "    </tr>\n",
              "  </thead>\n",
              "  <tbody>\n",
              "    <tr>\n",
              "      <th>1. FC Nürnberg</th>\n",
              "      <td>Germany</td>\n",
              "    </tr>\n",
              "    <tr>\n",
              "      <th>1. FSV Mainz 05</th>\n",
              "      <td>Germany</td>\n",
              "    </tr>\n",
              "    <tr>\n",
              "      <th>1899 Hoffenheim</th>\n",
              "      <td>Germany</td>\n",
              "    </tr>\n",
              "    <tr>\n",
              "      <th>AC Ajaccio</th>\n",
              "      <td>France</td>\n",
              "    </tr>\n",
              "    <tr>\n",
              "      <th>AFC Bournemouth</th>\n",
              "      <td>England</td>\n",
              "    </tr>\n",
              "  </tbody>\n",
              "</table>\n",
              "</div>"
            ],
            "text/plain": [
              "                leagueCountry\n",
              "club                         \n",
              "1. FC Nürnberg        Germany\n",
              "1. FSV Mainz 05       Germany\n",
              "1899 Hoffenheim       Germany\n",
              "AC Ajaccio             France\n",
              "AFC Bournemouth       England"
            ]
          },
          "metadata": {
            "tags": []
          },
          "execution_count": 23
        }
      ]
    },
    {
      "cell_type": "code",
      "metadata": {
        "id": "gwUqgLC0ub0G",
        "colab_type": "code",
        "colab": {
          "base_uri": "https://localhost:8080/",
          "height": 102
        },
        "outputId": "878328ed-80b6-4b47-d353-4fbea0cb4655"
      },
      "source": [
        "clubs['leagueCountry'].value_counts()"
      ],
      "execution_count": 24,
      "outputs": [
        {
          "output_type": "execute_result",
          "data": {
            "text/plain": [
              "England    48\n",
              "Spain      27\n",
              "France     22\n",
              "Germany    21\n",
              "Name: leagueCountry, dtype: int64"
            ]
          },
          "metadata": {
            "tags": []
          },
          "execution_count": 24
        }
      ]
    },
    {
      "cell_type": "code",
      "metadata": {
        "id": "njZufetiub0P",
        "colab_type": "code",
        "colab": {
          "base_uri": "https://localhost:8080/",
          "height": 34
        },
        "outputId": "3d712088-1fee-4444-c5c3-9a8c82f89bab"
      },
      "source": [
        "save_subgroup(clubs, club_index, \"clubs\", )"
      ],
      "execution_count": 25,
      "outputs": [
        {
          "output_type": "stream",
          "text": [
            "Test-passed: we recover the equivalent subgroup dataframe.\n"
          ],
          "name": "stdout"
        }
      ]
    },
    {
      "cell_type": "markdown",
      "metadata": {
        "id": "107ztEdHub0Z",
        "colab_type": "text"
      },
      "source": [
        "## Create Tidy Referees Table"
      ]
    },
    {
      "cell_type": "code",
      "metadata": {
        "id": "JVKrDRU-ub0a",
        "colab_type": "code",
        "colab": {
          "base_uri": "https://localhost:8080/",
          "height": 235
        },
        "outputId": "33ab6c7e-157b-4dfd-e649-679b1538808c"
      },
      "source": [
        "referee_index = 'refNum'\n",
        "referee_cols = ['refCountry']\n",
        "referees = get_subgroup(df, referee_index, referee_cols)\n",
        "referees.head()"
      ],
      "execution_count": 26,
      "outputs": [
        {
          "output_type": "execute_result",
          "data": {
            "text/html": [
              "<div>\n",
              "<style scoped>\n",
              "    .dataframe tbody tr th:only-of-type {\n",
              "        vertical-align: middle;\n",
              "    }\n",
              "\n",
              "    .dataframe tbody tr th {\n",
              "        vertical-align: top;\n",
              "    }\n",
              "\n",
              "    .dataframe thead th {\n",
              "        text-align: right;\n",
              "    }\n",
              "</style>\n",
              "<table border=\"1\" class=\"dataframe\">\n",
              "  <thead>\n",
              "    <tr style=\"text-align: right;\">\n",
              "      <th></th>\n",
              "      <th>refCountry</th>\n",
              "    </tr>\n",
              "    <tr>\n",
              "      <th>refNum</th>\n",
              "      <th></th>\n",
              "    </tr>\n",
              "  </thead>\n",
              "  <tbody>\n",
              "    <tr>\n",
              "      <th>1</th>\n",
              "      <td>1</td>\n",
              "    </tr>\n",
              "    <tr>\n",
              "      <th>2</th>\n",
              "      <td>2</td>\n",
              "    </tr>\n",
              "    <tr>\n",
              "      <th>3</th>\n",
              "      <td>3</td>\n",
              "    </tr>\n",
              "    <tr>\n",
              "      <th>4</th>\n",
              "      <td>4</td>\n",
              "    </tr>\n",
              "    <tr>\n",
              "      <th>5</th>\n",
              "      <td>5</td>\n",
              "    </tr>\n",
              "  </tbody>\n",
              "</table>\n",
              "</div>"
            ],
            "text/plain": [
              "        refCountry\n",
              "refNum            \n",
              "1                1\n",
              "2                2\n",
              "3                3\n",
              "4                4\n",
              "5                5"
            ]
          },
          "metadata": {
            "tags": []
          },
          "execution_count": 26
        }
      ]
    },
    {
      "cell_type": "code",
      "metadata": {
        "id": "yJDrfUmEub0p",
        "colab_type": "code",
        "colab": {
          "base_uri": "https://localhost:8080/",
          "height": 34
        },
        "outputId": "3c2e8bb7-5003-4b1c-d544-386ee33af7aa"
      },
      "source": [
        "referees.refCountry.nunique()"
      ],
      "execution_count": 27,
      "outputs": [
        {
          "output_type": "execute_result",
          "data": {
            "text/plain": [
              "161"
            ]
          },
          "metadata": {
            "tags": []
          },
          "execution_count": 27
        }
      ]
    },
    {
      "cell_type": "code",
      "metadata": {
        "id": "OMSIvbYtub0x",
        "colab_type": "code",
        "colab": {
          "base_uri": "https://localhost:8080/",
          "height": 235
        },
        "outputId": "c88819ca-d686-4ab4-924f-caa4d5a92c98"
      },
      "source": [
        "referees.tail()"
      ],
      "execution_count": 28,
      "outputs": [
        {
          "output_type": "execute_result",
          "data": {
            "text/html": [
              "<div>\n",
              "<style scoped>\n",
              "    .dataframe tbody tr th:only-of-type {\n",
              "        vertical-align: middle;\n",
              "    }\n",
              "\n",
              "    .dataframe tbody tr th {\n",
              "        vertical-align: top;\n",
              "    }\n",
              "\n",
              "    .dataframe thead th {\n",
              "        text-align: right;\n",
              "    }\n",
              "</style>\n",
              "<table border=\"1\" class=\"dataframe\">\n",
              "  <thead>\n",
              "    <tr style=\"text-align: right;\">\n",
              "      <th></th>\n",
              "      <th>refCountry</th>\n",
              "    </tr>\n",
              "    <tr>\n",
              "      <th>refNum</th>\n",
              "      <th></th>\n",
              "    </tr>\n",
              "  </thead>\n",
              "  <tbody>\n",
              "    <tr>\n",
              "      <th>3143</th>\n",
              "      <td>51</td>\n",
              "    </tr>\n",
              "    <tr>\n",
              "      <th>3144</th>\n",
              "      <td>55</td>\n",
              "    </tr>\n",
              "    <tr>\n",
              "      <th>3145</th>\n",
              "      <td>21</td>\n",
              "    </tr>\n",
              "    <tr>\n",
              "      <th>3146</th>\n",
              "      <td>51</td>\n",
              "    </tr>\n",
              "    <tr>\n",
              "      <th>3147</th>\n",
              "      <td>21</td>\n",
              "    </tr>\n",
              "  </tbody>\n",
              "</table>\n",
              "</div>"
            ],
            "text/plain": [
              "        refCountry\n",
              "refNum            \n",
              "3143            51\n",
              "3144            55\n",
              "3145            21\n",
              "3146            51\n",
              "3147            21"
            ]
          },
          "metadata": {
            "tags": []
          },
          "execution_count": 28
        }
      ]
    },
    {
      "cell_type": "code",
      "metadata": {
        "id": "RXT4UFIUub03",
        "colab_type": "code",
        "colab": {
          "base_uri": "https://localhost:8080/",
          "height": 34
        },
        "outputId": "4ea26cd0-52db-4813-9045-745973fc28f3"
      },
      "source": [
        "referees.shape"
      ],
      "execution_count": 29,
      "outputs": [
        {
          "output_type": "execute_result",
          "data": {
            "text/plain": [
              "(3147, 1)"
            ]
          },
          "metadata": {
            "tags": []
          },
          "execution_count": 29
        }
      ]
    },
    {
      "cell_type": "code",
      "metadata": {
        "id": "fr5M46TIub1D",
        "colab_type": "code",
        "colab": {
          "base_uri": "https://localhost:8080/",
          "height": 34
        },
        "outputId": "bbee56da-7cc1-4ec4-aa86-4bfa1f012c3d"
      },
      "source": [
        "save_subgroup(referees, referee_index, \"referees\")"
      ],
      "execution_count": 30,
      "outputs": [
        {
          "output_type": "stream",
          "text": [
            "Test-passed: we recover the equivalent subgroup dataframe.\n"
          ],
          "name": "stdout"
        }
      ]
    },
    {
      "cell_type": "markdown",
      "metadata": {
        "id": "7enzGYr6ub1a",
        "colab_type": "text"
      },
      "source": [
        "## Create Tidy Countries Table"
      ]
    },
    {
      "cell_type": "code",
      "metadata": {
        "id": "nn1bpJ2eub1b",
        "colab_type": "code",
        "colab": {
          "base_uri": "https://localhost:8080/",
          "height": 235
        },
        "outputId": "e6a2d1dd-c6de-4303-adb6-df16c05490f5"
      },
      "source": [
        "country_index = 'refCountry'\n",
        "country_cols = ['Alpha_3', # rename this name of country\n",
        "                'meanIAT',\n",
        "                'nIAT',\n",
        "                'seIAT',\n",
        "                'meanExp',\n",
        "                'nExp',\n",
        "                'seExp',\n",
        "               ]\n",
        "countries = get_subgroup(df, country_index, country_cols)\n",
        "countries.head()"
      ],
      "execution_count": 31,
      "outputs": [
        {
          "output_type": "execute_result",
          "data": {
            "text/html": [
              "<div>\n",
              "<style scoped>\n",
              "    .dataframe tbody tr th:only-of-type {\n",
              "        vertical-align: middle;\n",
              "    }\n",
              "\n",
              "    .dataframe tbody tr th {\n",
              "        vertical-align: top;\n",
              "    }\n",
              "\n",
              "    .dataframe thead th {\n",
              "        text-align: right;\n",
              "    }\n",
              "</style>\n",
              "<table border=\"1\" class=\"dataframe\">\n",
              "  <thead>\n",
              "    <tr style=\"text-align: right;\">\n",
              "      <th></th>\n",
              "      <th>Alpha_3</th>\n",
              "      <th>meanIAT</th>\n",
              "      <th>nIAT</th>\n",
              "      <th>seIAT</th>\n",
              "      <th>meanExp</th>\n",
              "      <th>nExp</th>\n",
              "      <th>seExp</th>\n",
              "    </tr>\n",
              "    <tr>\n",
              "      <th>refCountry</th>\n",
              "      <th></th>\n",
              "      <th></th>\n",
              "      <th></th>\n",
              "      <th></th>\n",
              "      <th></th>\n",
              "      <th></th>\n",
              "      <th></th>\n",
              "    </tr>\n",
              "  </thead>\n",
              "  <tbody>\n",
              "    <tr>\n",
              "      <th>1</th>\n",
              "      <td>GRC</td>\n",
              "      <td>0.326391</td>\n",
              "      <td>712.0</td>\n",
              "      <td>0.000564</td>\n",
              "      <td>0.396000</td>\n",
              "      <td>750.0</td>\n",
              "      <td>0.002696</td>\n",
              "    </tr>\n",
              "    <tr>\n",
              "      <th>2</th>\n",
              "      <td>ZMB</td>\n",
              "      <td>0.203375</td>\n",
              "      <td>40.0</td>\n",
              "      <td>0.010875</td>\n",
              "      <td>-0.204082</td>\n",
              "      <td>49.0</td>\n",
              "      <td>0.061504</td>\n",
              "    </tr>\n",
              "    <tr>\n",
              "      <th>3</th>\n",
              "      <td>ESP</td>\n",
              "      <td>0.369894</td>\n",
              "      <td>1785.0</td>\n",
              "      <td>0.000229</td>\n",
              "      <td>0.588297</td>\n",
              "      <td>1897.0</td>\n",
              "      <td>0.001002</td>\n",
              "    </tr>\n",
              "    <tr>\n",
              "      <th>4</th>\n",
              "      <td>LUX</td>\n",
              "      <td>0.325185</td>\n",
              "      <td>127.0</td>\n",
              "      <td>0.003297</td>\n",
              "      <td>0.538462</td>\n",
              "      <td>130.0</td>\n",
              "      <td>0.013752</td>\n",
              "    </tr>\n",
              "    <tr>\n",
              "      <th>5</th>\n",
              "      <td>TUN</td>\n",
              "      <td>0.167132</td>\n",
              "      <td>19.0</td>\n",
              "      <td>0.027327</td>\n",
              "      <td>-0.789474</td>\n",
              "      <td>19.0</td>\n",
              "      <td>0.111757</td>\n",
              "    </tr>\n",
              "  </tbody>\n",
              "</table>\n",
              "</div>"
            ],
            "text/plain": [
              "           Alpha_3   meanIAT    nIAT     seIAT   meanExp    nExp     seExp\n",
              "refCountry                                                                \n",
              "1              GRC  0.326391   712.0  0.000564  0.396000   750.0  0.002696\n",
              "2              ZMB  0.203375    40.0  0.010875 -0.204082    49.0  0.061504\n",
              "3              ESP  0.369894  1785.0  0.000229  0.588297  1897.0  0.001002\n",
              "4              LUX  0.325185   127.0  0.003297  0.538462   130.0  0.013752\n",
              "5              TUN  0.167132    19.0  0.027327 -0.789474    19.0  0.111757"
            ]
          },
          "metadata": {
            "tags": []
          },
          "execution_count": 31
        }
      ]
    },
    {
      "cell_type": "code",
      "metadata": {
        "id": "F2CE22B0ub1q",
        "colab_type": "code",
        "colab": {
          "base_uri": "https://localhost:8080/",
          "height": 235
        },
        "outputId": "3f502340-e399-4cf5-fb0e-47c9883966d7"
      },
      "source": [
        "rename_columns = {'Alpha_3':'countryName', }\n",
        "countries = countries.rename(columns=rename_columns)\n",
        "countries.head()"
      ],
      "execution_count": 32,
      "outputs": [
        {
          "output_type": "execute_result",
          "data": {
            "text/html": [
              "<div>\n",
              "<style scoped>\n",
              "    .dataframe tbody tr th:only-of-type {\n",
              "        vertical-align: middle;\n",
              "    }\n",
              "\n",
              "    .dataframe tbody tr th {\n",
              "        vertical-align: top;\n",
              "    }\n",
              "\n",
              "    .dataframe thead th {\n",
              "        text-align: right;\n",
              "    }\n",
              "</style>\n",
              "<table border=\"1\" class=\"dataframe\">\n",
              "  <thead>\n",
              "    <tr style=\"text-align: right;\">\n",
              "      <th></th>\n",
              "      <th>countryName</th>\n",
              "      <th>meanIAT</th>\n",
              "      <th>nIAT</th>\n",
              "      <th>seIAT</th>\n",
              "      <th>meanExp</th>\n",
              "      <th>nExp</th>\n",
              "      <th>seExp</th>\n",
              "    </tr>\n",
              "    <tr>\n",
              "      <th>refCountry</th>\n",
              "      <th></th>\n",
              "      <th></th>\n",
              "      <th></th>\n",
              "      <th></th>\n",
              "      <th></th>\n",
              "      <th></th>\n",
              "      <th></th>\n",
              "    </tr>\n",
              "  </thead>\n",
              "  <tbody>\n",
              "    <tr>\n",
              "      <th>1</th>\n",
              "      <td>GRC</td>\n",
              "      <td>0.326391</td>\n",
              "      <td>712.0</td>\n",
              "      <td>0.000564</td>\n",
              "      <td>0.396000</td>\n",
              "      <td>750.0</td>\n",
              "      <td>0.002696</td>\n",
              "    </tr>\n",
              "    <tr>\n",
              "      <th>2</th>\n",
              "      <td>ZMB</td>\n",
              "      <td>0.203375</td>\n",
              "      <td>40.0</td>\n",
              "      <td>0.010875</td>\n",
              "      <td>-0.204082</td>\n",
              "      <td>49.0</td>\n",
              "      <td>0.061504</td>\n",
              "    </tr>\n",
              "    <tr>\n",
              "      <th>3</th>\n",
              "      <td>ESP</td>\n",
              "      <td>0.369894</td>\n",
              "      <td>1785.0</td>\n",
              "      <td>0.000229</td>\n",
              "      <td>0.588297</td>\n",
              "      <td>1897.0</td>\n",
              "      <td>0.001002</td>\n",
              "    </tr>\n",
              "    <tr>\n",
              "      <th>4</th>\n",
              "      <td>LUX</td>\n",
              "      <td>0.325185</td>\n",
              "      <td>127.0</td>\n",
              "      <td>0.003297</td>\n",
              "      <td>0.538462</td>\n",
              "      <td>130.0</td>\n",
              "      <td>0.013752</td>\n",
              "    </tr>\n",
              "    <tr>\n",
              "      <th>5</th>\n",
              "      <td>TUN</td>\n",
              "      <td>0.167132</td>\n",
              "      <td>19.0</td>\n",
              "      <td>0.027327</td>\n",
              "      <td>-0.789474</td>\n",
              "      <td>19.0</td>\n",
              "      <td>0.111757</td>\n",
              "    </tr>\n",
              "  </tbody>\n",
              "</table>\n",
              "</div>"
            ],
            "text/plain": [
              "           countryName   meanIAT    nIAT     seIAT   meanExp    nExp     seExp\n",
              "refCountry                                                                    \n",
              "1                  GRC  0.326391   712.0  0.000564  0.396000   750.0  0.002696\n",
              "2                  ZMB  0.203375    40.0  0.010875 -0.204082    49.0  0.061504\n",
              "3                  ESP  0.369894  1785.0  0.000229  0.588297  1897.0  0.001002\n",
              "4                  LUX  0.325185   127.0  0.003297  0.538462   130.0  0.013752\n",
              "5                  TUN  0.167132    19.0  0.027327 -0.789474    19.0  0.111757"
            ]
          },
          "metadata": {
            "tags": []
          },
          "execution_count": 32
        }
      ]
    },
    {
      "cell_type": "code",
      "metadata": {
        "id": "q4YwOPlWub14",
        "colab_type": "code",
        "colab": {},
        "outputId": "5373effc-6e5c-4fa8-8f77-e3d3a54f4917"
      },
      "source": [
        "countries.shape"
      ],
      "execution_count": 0,
      "outputs": [
        {
          "output_type": "execute_result",
          "data": {
            "text/plain": [
              "(161, 7)"
            ]
          },
          "metadata": {
            "tags": []
          },
          "execution_count": 31
        }
      ]
    },
    {
      "cell_type": "code",
      "metadata": {
        "id": "_X372mVeub1-",
        "colab_type": "code",
        "colab": {},
        "outputId": "947066b1-26e1-4ccd-9e75-4321b24c9f68"
      },
      "source": [
        "save_subgroup(countries, country_index, \"countries\")"
      ],
      "execution_count": 0,
      "outputs": [
        {
          "output_type": "stream",
          "text": [
            "Warning -- equivalence test!!! Double-check.\n"
          ],
          "name": "stdout"
        }
      ]
    },
    {
      "cell_type": "code",
      "metadata": {
        "id": "ewb3x4cLub2M",
        "colab_type": "code",
        "colab": {}
      },
      "source": [
        "# Ok testing this out: \n",
        "test_df = pd.read_csv(\"raw_countries.csv.gz\", compression='gzip', index_col=country_index)"
      ],
      "execution_count": 0,
      "outputs": []
    },
    {
      "cell_type": "code",
      "metadata": {
        "id": "tGADAPQQub2n",
        "colab_type": "code",
        "colab": {},
        "outputId": "dd11b27e-b762-491d-c342-32ca7b06647d"
      },
      "source": [
        "for (_, row1), (_, row2) in zip(test_df.iterrows(), countries.iterrows()):\n",
        "    if not row1.equals(row2):\n",
        "        print(row1)\n",
        "        print()\n",
        "        print(row2)\n",
        "        print()\n",
        "        break"
      ],
      "execution_count": 0,
      "outputs": [
        {
          "output_type": "stream",
          "text": [
            "nIAT                  127\n",
            "meanIAT          0.325185\n",
            "countryName           LUX\n",
            "nExp                  130\n",
            "meanExp          0.538462\n",
            "seIAT          0.00329681\n",
            "seExp           0.0137522\n",
            "Name: 4, dtype: object\n",
            "\n",
            "nIAT                  127\n",
            "meanIAT          0.325185\n",
            "countryName           LUX\n",
            "nExp                  130\n",
            "meanExp          0.538462\n",
            "seIAT          0.00329681\n",
            "seExp           0.0137522\n",
            "Name: 4, dtype: object\n",
            "\n"
          ],
          "name": "stdout"
        }
      ]
    },
    {
      "cell_type": "code",
      "metadata": {
        "id": "JhhHtBAKub2w",
        "colab_type": "code",
        "colab": {},
        "outputId": "44827266-4e45-4152-d8fd-9061f7947621"
      },
      "source": [
        "row1.eq(row2)"
      ],
      "execution_count": 0,
      "outputs": [
        {
          "output_type": "execute_result",
          "data": {
            "text/plain": [
              "nIAT            True\n",
              "meanIAT         True\n",
              "countryName     True\n",
              "nExp            True\n",
              "meanExp         True\n",
              "seIAT          False\n",
              "seExp           True\n",
              "Name: 4, dtype: bool"
            ]
          },
          "metadata": {
            "tags": []
          },
          "execution_count": 35
        }
      ]
    },
    {
      "cell_type": "code",
      "metadata": {
        "id": "dVDqCyf5ub4K",
        "colab_type": "code",
        "colab": {},
        "outputId": "3a20a22d-b5dc-4ad3-c602-f331f9a5fd62"
      },
      "source": [
        "row1.seIAT - row2.seIAT"
      ],
      "execution_count": 0,
      "outputs": [
        {
          "output_type": "execute_result",
          "data": {
            "text/plain": [
              "4.336808689942018e-19"
            ]
          },
          "metadata": {
            "tags": []
          },
          "execution_count": 36
        }
      ]
    },
    {
      "cell_type": "code",
      "metadata": {
        "id": "7jVAPc9Lub4z",
        "colab_type": "code",
        "colab": {},
        "outputId": "94534dc7-df81-4117-b167-00e230393a13"
      },
      "source": [
        "countries.dtypes"
      ],
      "execution_count": 0,
      "outputs": [
        {
          "output_type": "execute_result",
          "data": {
            "text/plain": [
              "nIAT           float64\n",
              "meanIAT        float64\n",
              "countryName     object\n",
              "nExp           float64\n",
              "meanExp        float64\n",
              "seIAT          float64\n",
              "seExp          float64\n",
              "dtype: object"
            ]
          },
          "metadata": {
            "tags": []
          },
          "execution_count": 37
        }
      ]
    },
    {
      "cell_type": "code",
      "metadata": {
        "id": "JdfH4kNeub5A",
        "colab_type": "code",
        "colab": {},
        "outputId": "af97f377-a2a0-4181-b965-29b7b1b40701"
      },
      "source": [
        "test_df.dtypes"
      ],
      "execution_count": 0,
      "outputs": [
        {
          "output_type": "execute_result",
          "data": {
            "text/plain": [
              "nIAT           float64\n",
              "meanIAT        float64\n",
              "countryName     object\n",
              "nExp           float64\n",
              "meanExp        float64\n",
              "seIAT          float64\n",
              "seExp          float64\n",
              "dtype: object"
            ]
          },
          "metadata": {
            "tags": []
          },
          "execution_count": 38
        }
      ]
    },
    {
      "cell_type": "code",
      "metadata": {
        "id": "d2gx2v1dub5e",
        "colab_type": "code",
        "colab": {},
        "outputId": "63751b5f-fb9e-410e-c216-218751791ed8"
      },
      "source": [
        "countries.head()"
      ],
      "execution_count": 0,
      "outputs": [
        {
          "output_type": "execute_result",
          "data": {
            "text/html": [
              "<div>\n",
              "<table border=\"1\" class=\"dataframe\">\n",
              "  <thead>\n",
              "    <tr style=\"text-align: right;\">\n",
              "      <th></th>\n",
              "      <th>nIAT</th>\n",
              "      <th>meanIAT</th>\n",
              "      <th>countryName</th>\n",
              "      <th>nExp</th>\n",
              "      <th>meanExp</th>\n",
              "      <th>seIAT</th>\n",
              "      <th>seExp</th>\n",
              "    </tr>\n",
              "    <tr>\n",
              "      <th>refCountry</th>\n",
              "      <th></th>\n",
              "      <th></th>\n",
              "      <th></th>\n",
              "      <th></th>\n",
              "      <th></th>\n",
              "      <th></th>\n",
              "      <th></th>\n",
              "    </tr>\n",
              "  </thead>\n",
              "  <tbody>\n",
              "    <tr>\n",
              "      <th>1</th>\n",
              "      <td>712.0</td>\n",
              "      <td>0.326391</td>\n",
              "      <td>GRC</td>\n",
              "      <td>750.0</td>\n",
              "      <td>0.396000</td>\n",
              "      <td>0.000564</td>\n",
              "      <td>0.002696</td>\n",
              "    </tr>\n",
              "    <tr>\n",
              "      <th>2</th>\n",
              "      <td>40.0</td>\n",
              "      <td>0.203375</td>\n",
              "      <td>ZMB</td>\n",
              "      <td>49.0</td>\n",
              "      <td>-0.204082</td>\n",
              "      <td>0.010875</td>\n",
              "      <td>0.061504</td>\n",
              "    </tr>\n",
              "    <tr>\n",
              "      <th>3</th>\n",
              "      <td>1785.0</td>\n",
              "      <td>0.369894</td>\n",
              "      <td>ESP</td>\n",
              "      <td>1897.0</td>\n",
              "      <td>0.588297</td>\n",
              "      <td>0.000229</td>\n",
              "      <td>0.001002</td>\n",
              "    </tr>\n",
              "    <tr>\n",
              "      <th>4</th>\n",
              "      <td>127.0</td>\n",
              "      <td>0.325185</td>\n",
              "      <td>LUX</td>\n",
              "      <td>130.0</td>\n",
              "      <td>0.538462</td>\n",
              "      <td>0.003297</td>\n",
              "      <td>0.013752</td>\n",
              "    </tr>\n",
              "    <tr>\n",
              "      <th>5</th>\n",
              "      <td>19.0</td>\n",
              "      <td>0.167132</td>\n",
              "      <td>TUN</td>\n",
              "      <td>19.0</td>\n",
              "      <td>-0.789474</td>\n",
              "      <td>0.027327</td>\n",
              "      <td>0.111757</td>\n",
              "    </tr>\n",
              "  </tbody>\n",
              "</table>\n",
              "</div>"
            ],
            "text/plain": [
              "              nIAT   meanIAT countryName    nExp   meanExp     seIAT     seExp\n",
              "refCountry                                                                    \n",
              "1            712.0  0.326391         GRC   750.0  0.396000  0.000564  0.002696\n",
              "2             40.0  0.203375         ZMB    49.0 -0.204082  0.010875  0.061504\n",
              "3           1785.0  0.369894         ESP  1897.0  0.588297  0.000229  0.001002\n",
              "4            127.0  0.325185         LUX   130.0  0.538462  0.003297  0.013752\n",
              "5             19.0  0.167132         TUN    19.0 -0.789474  0.027327  0.111757"
            ]
          },
          "metadata": {
            "tags": []
          },
          "execution_count": 39
        }
      ]
    },
    {
      "cell_type": "code",
      "metadata": {
        "id": "MogT1VUyub5n",
        "colab_type": "code",
        "colab": {},
        "outputId": "d110aa13-bd7c-449e-8360-94c95a65f785"
      },
      "source": [
        "test_df.head()"
      ],
      "execution_count": 0,
      "outputs": [
        {
          "output_type": "execute_result",
          "data": {
            "text/html": [
              "<div>\n",
              "<table border=\"1\" class=\"dataframe\">\n",
              "  <thead>\n",
              "    <tr style=\"text-align: right;\">\n",
              "      <th></th>\n",
              "      <th>nIAT</th>\n",
              "      <th>meanIAT</th>\n",
              "      <th>countryName</th>\n",
              "      <th>nExp</th>\n",
              "      <th>meanExp</th>\n",
              "      <th>seIAT</th>\n",
              "      <th>seExp</th>\n",
              "    </tr>\n",
              "    <tr>\n",
              "      <th>refCountry</th>\n",
              "      <th></th>\n",
              "      <th></th>\n",
              "      <th></th>\n",
              "      <th></th>\n",
              "      <th></th>\n",
              "      <th></th>\n",
              "      <th></th>\n",
              "    </tr>\n",
              "  </thead>\n",
              "  <tbody>\n",
              "    <tr>\n",
              "      <th>1</th>\n",
              "      <td>712.0</td>\n",
              "      <td>0.326391</td>\n",
              "      <td>GRC</td>\n",
              "      <td>750.0</td>\n",
              "      <td>0.396000</td>\n",
              "      <td>0.000564</td>\n",
              "      <td>0.002696</td>\n",
              "    </tr>\n",
              "    <tr>\n",
              "      <th>2</th>\n",
              "      <td>40.0</td>\n",
              "      <td>0.203375</td>\n",
              "      <td>ZMB</td>\n",
              "      <td>49.0</td>\n",
              "      <td>-0.204082</td>\n",
              "      <td>0.010875</td>\n",
              "      <td>0.061504</td>\n",
              "    </tr>\n",
              "    <tr>\n",
              "      <th>3</th>\n",
              "      <td>1785.0</td>\n",
              "      <td>0.369894</td>\n",
              "      <td>ESP</td>\n",
              "      <td>1897.0</td>\n",
              "      <td>0.588297</td>\n",
              "      <td>0.000229</td>\n",
              "      <td>0.001002</td>\n",
              "    </tr>\n",
              "    <tr>\n",
              "      <th>4</th>\n",
              "      <td>127.0</td>\n",
              "      <td>0.325185</td>\n",
              "      <td>LUX</td>\n",
              "      <td>130.0</td>\n",
              "      <td>0.538462</td>\n",
              "      <td>0.003297</td>\n",
              "      <td>0.013752</td>\n",
              "    </tr>\n",
              "    <tr>\n",
              "      <th>5</th>\n",
              "      <td>19.0</td>\n",
              "      <td>0.167132</td>\n",
              "      <td>TUN</td>\n",
              "      <td>19.0</td>\n",
              "      <td>-0.789474</td>\n",
              "      <td>0.027327</td>\n",
              "      <td>0.111757</td>\n",
              "    </tr>\n",
              "  </tbody>\n",
              "</table>\n",
              "</div>"
            ],
            "text/plain": [
              "              nIAT   meanIAT countryName    nExp   meanExp     seIAT     seExp\n",
              "refCountry                                                                    \n",
              "1            712.0  0.326391         GRC   750.0  0.396000  0.000564  0.002696\n",
              "2             40.0  0.203375         ZMB    49.0 -0.204082  0.010875  0.061504\n",
              "3           1785.0  0.369894         ESP  1897.0  0.588297  0.000229  0.001002\n",
              "4            127.0  0.325185         LUX   130.0  0.538462  0.003297  0.013752\n",
              "5             19.0  0.167132         TUN    19.0 -0.789474  0.027327  0.111757"
            ]
          },
          "metadata": {
            "tags": []
          },
          "execution_count": 40
        }
      ]
    },
    {
      "cell_type": "markdown",
      "metadata": {
        "id": "IB-Z8yGtub50",
        "colab_type": "text"
      },
      "source": [
        "Looks like precision error, so I'm not concerned. All other sanity checks pass."
      ]
    },
    {
      "cell_type": "code",
      "metadata": {
        "id": "_EKkd5Qcub51",
        "colab_type": "code",
        "colab": {},
        "outputId": "c2c2f8cb-af51-41dd-bf31-56f1db8ccf5d"
      },
      "source": [
        "countries.tail()"
      ],
      "execution_count": 0,
      "outputs": [
        {
          "output_type": "execute_result",
          "data": {
            "text/html": [
              "<div>\n",
              "<table border=\"1\" class=\"dataframe\">\n",
              "  <thead>\n",
              "    <tr style=\"text-align: right;\">\n",
              "      <th></th>\n",
              "      <th>nIAT</th>\n",
              "      <th>meanIAT</th>\n",
              "      <th>countryName</th>\n",
              "      <th>nExp</th>\n",
              "      <th>meanExp</th>\n",
              "      <th>seIAT</th>\n",
              "      <th>seExp</th>\n",
              "    </tr>\n",
              "    <tr>\n",
              "      <th>refCountry</th>\n",
              "      <th></th>\n",
              "      <th></th>\n",
              "      <th></th>\n",
              "      <th></th>\n",
              "      <th></th>\n",
              "      <th></th>\n",
              "      <th></th>\n",
              "    </tr>\n",
              "  </thead>\n",
              "  <tbody>\n",
              "    <tr>\n",
              "      <th>157</th>\n",
              "      <td>27.0</td>\n",
              "      <td>0.179002</td>\n",
              "      <td>MOZ</td>\n",
              "      <td>31.0</td>\n",
              "      <td>0.000000</td>\n",
              "      <td>0.015172</td>\n",
              "      <td>0.032258</td>\n",
              "    </tr>\n",
              "    <tr>\n",
              "      <th>158</th>\n",
              "      <td>402.0</td>\n",
              "      <td>0.344074</td>\n",
              "      <td>DOM</td>\n",
              "      <td>373.0</td>\n",
              "      <td>0.297587</td>\n",
              "      <td>0.001123</td>\n",
              "      <td>0.005557</td>\n",
              "    </tr>\n",
              "    <tr>\n",
              "      <th>159</th>\n",
              "      <td>23.0</td>\n",
              "      <td>0.318392</td>\n",
              "      <td>CAF</td>\n",
              "      <td>23.0</td>\n",
              "      <td>-0.130435</td>\n",
              "      <td>0.019218</td>\n",
              "      <td>0.147328</td>\n",
              "    </tr>\n",
              "    <tr>\n",
              "      <th>160</th>\n",
              "      <td>90.0</td>\n",
              "      <td>0.349965</td>\n",
              "      <td>NPL</td>\n",
              "      <td>101.0</td>\n",
              "      <td>0.366337</td>\n",
              "      <td>0.004713</td>\n",
              "      <td>0.015700</td>\n",
              "    </tr>\n",
              "    <tr>\n",
              "      <th>161</th>\n",
              "      <td>313.0</td>\n",
              "      <td>0.304238</td>\n",
              "      <td>BGD</td>\n",
              "      <td>316.0</td>\n",
              "      <td>0.585443</td>\n",
              "      <td>0.001560</td>\n",
              "      <td>0.012881</td>\n",
              "    </tr>\n",
              "  </tbody>\n",
              "</table>\n",
              "</div>"
            ],
            "text/plain": [
              "             nIAT   meanIAT countryName   nExp   meanExp     seIAT     seExp\n",
              "refCountry                                                                  \n",
              "157          27.0  0.179002         MOZ   31.0  0.000000  0.015172  0.032258\n",
              "158         402.0  0.344074         DOM  373.0  0.297587  0.001123  0.005557\n",
              "159          23.0  0.318392         CAF   23.0 -0.130435  0.019218  0.147328\n",
              "160          90.0  0.349965         NPL  101.0  0.366337  0.004713  0.015700\n",
              "161         313.0  0.304238         BGD  316.0  0.585443  0.001560  0.012881"
            ]
          },
          "metadata": {
            "tags": []
          },
          "execution_count": 41
        }
      ]
    },
    {
      "cell_type": "code",
      "metadata": {
        "id": "HrWK-AAqub6C",
        "colab_type": "code",
        "colab": {},
        "outputId": "13cb6313-41b8-4e9f-e83e-5969dca10d59"
      },
      "source": [
        "test_df.tail()"
      ],
      "execution_count": 0,
      "outputs": [
        {
          "output_type": "execute_result",
          "data": {
            "text/html": [
              "<div>\n",
              "<table border=\"1\" class=\"dataframe\">\n",
              "  <thead>\n",
              "    <tr style=\"text-align: right;\">\n",
              "      <th></th>\n",
              "      <th>nIAT</th>\n",
              "      <th>meanIAT</th>\n",
              "      <th>countryName</th>\n",
              "      <th>nExp</th>\n",
              "      <th>meanExp</th>\n",
              "      <th>seIAT</th>\n",
              "      <th>seExp</th>\n",
              "    </tr>\n",
              "    <tr>\n",
              "      <th>refCountry</th>\n",
              "      <th></th>\n",
              "      <th></th>\n",
              "      <th></th>\n",
              "      <th></th>\n",
              "      <th></th>\n",
              "      <th></th>\n",
              "      <th></th>\n",
              "    </tr>\n",
              "  </thead>\n",
              "  <tbody>\n",
              "    <tr>\n",
              "      <th>157</th>\n",
              "      <td>27.0</td>\n",
              "      <td>0.179002</td>\n",
              "      <td>MOZ</td>\n",
              "      <td>31.0</td>\n",
              "      <td>0.000000</td>\n",
              "      <td>0.015172</td>\n",
              "      <td>0.032258</td>\n",
              "    </tr>\n",
              "    <tr>\n",
              "      <th>158</th>\n",
              "      <td>402.0</td>\n",
              "      <td>0.344074</td>\n",
              "      <td>DOM</td>\n",
              "      <td>373.0</td>\n",
              "      <td>0.297587</td>\n",
              "      <td>0.001123</td>\n",
              "      <td>0.005557</td>\n",
              "    </tr>\n",
              "    <tr>\n",
              "      <th>159</th>\n",
              "      <td>23.0</td>\n",
              "      <td>0.318392</td>\n",
              "      <td>CAF</td>\n",
              "      <td>23.0</td>\n",
              "      <td>-0.130435</td>\n",
              "      <td>0.019218</td>\n",
              "      <td>0.147328</td>\n",
              "    </tr>\n",
              "    <tr>\n",
              "      <th>160</th>\n",
              "      <td>90.0</td>\n",
              "      <td>0.349965</td>\n",
              "      <td>NPL</td>\n",
              "      <td>101.0</td>\n",
              "      <td>0.366337</td>\n",
              "      <td>0.004713</td>\n",
              "      <td>0.015700</td>\n",
              "    </tr>\n",
              "    <tr>\n",
              "      <th>161</th>\n",
              "      <td>313.0</td>\n",
              "      <td>0.304238</td>\n",
              "      <td>BGD</td>\n",
              "      <td>316.0</td>\n",
              "      <td>0.585443</td>\n",
              "      <td>0.001560</td>\n",
              "      <td>0.012881</td>\n",
              "    </tr>\n",
              "  </tbody>\n",
              "</table>\n",
              "</div>"
            ],
            "text/plain": [
              "             nIAT   meanIAT countryName   nExp   meanExp     seIAT     seExp\n",
              "refCountry                                                                  \n",
              "157          27.0  0.179002         MOZ   31.0  0.000000  0.015172  0.032258\n",
              "158         402.0  0.344074         DOM  373.0  0.297587  0.001123  0.005557\n",
              "159          23.0  0.318392         CAF   23.0 -0.130435  0.019218  0.147328\n",
              "160          90.0  0.349965         NPL  101.0  0.366337  0.004713  0.015700\n",
              "161         313.0  0.304238         BGD  316.0  0.585443  0.001560  0.012881"
            ]
          },
          "metadata": {
            "tags": []
          },
          "execution_count": 42
        }
      ]
    },
    {
      "cell_type": "markdown",
      "metadata": {
        "id": "Q9i9gRC6ub6M",
        "colab_type": "text"
      },
      "source": [
        "## Create separate (not yet Tidy) Dyads Table\n",
        "\n",
        "This is one of the more complex tables to reason about -- so we'll save it for a bit later. "
      ]
    },
    {
      "cell_type": "code",
      "metadata": {
        "collapsed": true,
        "id": "Kg2MRhozub6O",
        "colab_type": "code",
        "colab": {}
      },
      "source": [
        "dyad_index = ['refNum', 'playerShort']\n",
        "dyad_cols = ['games',\n",
        "             'victories',\n",
        "             'ties',\n",
        "             'defeats',\n",
        "             'goals',\n",
        "             'yellowCards',\n",
        "             'yellowReds',\n",
        "             'redCards',\n",
        "            ]"
      ],
      "execution_count": 0,
      "outputs": []
    },
    {
      "cell_type": "code",
      "metadata": {
        "collapsed": true,
        "id": "3EbbZujzub6S",
        "colab_type": "code",
        "colab": {}
      },
      "source": [
        "dyads = get_subgroup(df, g_index=dyad_index, g_columns=dyad_cols)"
      ],
      "execution_count": 0,
      "outputs": []
    },
    {
      "cell_type": "code",
      "metadata": {
        "id": "LfQekE2wub6X",
        "colab_type": "code",
        "colab": {},
        "outputId": "e5261abb-0368-47ef-ddd2-b6fdaf9ca551"
      },
      "source": [
        "dyads.head(10)"
      ],
      "execution_count": 0,
      "outputs": [
        {
          "output_type": "execute_result",
          "data": {
            "text/html": [
              "<div>\n",
              "<table border=\"1\" class=\"dataframe\">\n",
              "  <thead>\n",
              "    <tr style=\"text-align: right;\">\n",
              "      <th></th>\n",
              "      <th></th>\n",
              "      <th>yellowCards</th>\n",
              "      <th>yellowReds</th>\n",
              "      <th>victories</th>\n",
              "      <th>ties</th>\n",
              "      <th>games</th>\n",
              "      <th>defeats</th>\n",
              "      <th>goals</th>\n",
              "      <th>redCards</th>\n",
              "    </tr>\n",
              "    <tr>\n",
              "      <th>refNum</th>\n",
              "      <th>playerShort</th>\n",
              "      <th></th>\n",
              "      <th></th>\n",
              "      <th></th>\n",
              "      <th></th>\n",
              "      <th></th>\n",
              "      <th></th>\n",
              "      <th></th>\n",
              "      <th></th>\n",
              "    </tr>\n",
              "  </thead>\n",
              "  <tbody>\n",
              "    <tr>\n",
              "      <th>1</th>\n",
              "      <th>lucas-wilchez</th>\n",
              "      <td>0</td>\n",
              "      <td>0</td>\n",
              "      <td>0</td>\n",
              "      <td>0</td>\n",
              "      <td>1</td>\n",
              "      <td>1</td>\n",
              "      <td>0</td>\n",
              "      <td>0</td>\n",
              "    </tr>\n",
              "    <tr>\n",
              "      <th>2</th>\n",
              "      <th>john-utaka</th>\n",
              "      <td>1</td>\n",
              "      <td>0</td>\n",
              "      <td>0</td>\n",
              "      <td>0</td>\n",
              "      <td>1</td>\n",
              "      <td>1</td>\n",
              "      <td>0</td>\n",
              "      <td>0</td>\n",
              "    </tr>\n",
              "    <tr>\n",
              "      <th rowspan=\"3\" valign=\"top\">3</th>\n",
              "      <th>abdon-prats</th>\n",
              "      <td>1</td>\n",
              "      <td>0</td>\n",
              "      <td>0</td>\n",
              "      <td>1</td>\n",
              "      <td>1</td>\n",
              "      <td>0</td>\n",
              "      <td>0</td>\n",
              "      <td>0</td>\n",
              "    </tr>\n",
              "    <tr>\n",
              "      <th>pablo-mari</th>\n",
              "      <td>0</td>\n",
              "      <td>0</td>\n",
              "      <td>1</td>\n",
              "      <td>0</td>\n",
              "      <td>1</td>\n",
              "      <td>0</td>\n",
              "      <td>0</td>\n",
              "      <td>0</td>\n",
              "    </tr>\n",
              "    <tr>\n",
              "      <th>ruben-pena</th>\n",
              "      <td>0</td>\n",
              "      <td>0</td>\n",
              "      <td>1</td>\n",
              "      <td>0</td>\n",
              "      <td>1</td>\n",
              "      <td>0</td>\n",
              "      <td>0</td>\n",
              "      <td>0</td>\n",
              "    </tr>\n",
              "    <tr>\n",
              "      <th rowspan=\"5\" valign=\"top\">4</th>\n",
              "      <th>aaron-hughes</th>\n",
              "      <td>0</td>\n",
              "      <td>0</td>\n",
              "      <td>0</td>\n",
              "      <td>0</td>\n",
              "      <td>1</td>\n",
              "      <td>1</td>\n",
              "      <td>0</td>\n",
              "      <td>0</td>\n",
              "    </tr>\n",
              "    <tr>\n",
              "      <th>aleksandar-kolarov</th>\n",
              "      <td>0</td>\n",
              "      <td>0</td>\n",
              "      <td>1</td>\n",
              "      <td>0</td>\n",
              "      <td>1</td>\n",
              "      <td>0</td>\n",
              "      <td>0</td>\n",
              "      <td>0</td>\n",
              "    </tr>\n",
              "    <tr>\n",
              "      <th>alexander-tettey</th>\n",
              "      <td>0</td>\n",
              "      <td>0</td>\n",
              "      <td>0</td>\n",
              "      <td>0</td>\n",
              "      <td>1</td>\n",
              "      <td>1</td>\n",
              "      <td>0</td>\n",
              "      <td>0</td>\n",
              "    </tr>\n",
              "    <tr>\n",
              "      <th>anders-lindegaard</th>\n",
              "      <td>0</td>\n",
              "      <td>0</td>\n",
              "      <td>0</td>\n",
              "      <td>1</td>\n",
              "      <td>1</td>\n",
              "      <td>0</td>\n",
              "      <td>0</td>\n",
              "      <td>0</td>\n",
              "    </tr>\n",
              "    <tr>\n",
              "      <th>andreas-beck</th>\n",
              "      <td>0</td>\n",
              "      <td>0</td>\n",
              "      <td>1</td>\n",
              "      <td>0</td>\n",
              "      <td>1</td>\n",
              "      <td>0</td>\n",
              "      <td>0</td>\n",
              "      <td>0</td>\n",
              "    </tr>\n",
              "  </tbody>\n",
              "</table>\n",
              "</div>"
            ],
            "text/plain": [
              "                           yellowCards  yellowReds  victories  ties  games  \\\n",
              "refNum playerShort                                                           \n",
              "1      lucas-wilchez                 0           0          0     0      1   \n",
              "2      john-utaka                    1           0          0     0      1   \n",
              "3      abdon-prats                   1           0          0     1      1   \n",
              "       pablo-mari                    0           0          1     0      1   \n",
              "       ruben-pena                    0           0          1     0      1   \n",
              "4      aaron-hughes                  0           0          0     0      1   \n",
              "       aleksandar-kolarov            0           0          1     0      1   \n",
              "       alexander-tettey              0           0          0     0      1   \n",
              "       anders-lindegaard             0           0          0     1      1   \n",
              "       andreas-beck                  0           0          1     0      1   \n",
              "\n",
              "                           defeats  goals  redCards  \n",
              "refNum playerShort                                   \n",
              "1      lucas-wilchez             1      0         0  \n",
              "2      john-utaka                1      0         0  \n",
              "3      abdon-prats               0      0         0  \n",
              "       pablo-mari                0      0         0  \n",
              "       ruben-pena                0      0         0  \n",
              "4      aaron-hughes              1      0         0  \n",
              "       aleksandar-kolarov        0      0         0  \n",
              "       alexander-tettey          1      0         0  \n",
              "       anders-lindegaard         0      0         0  \n",
              "       andreas-beck              0      0         0  "
            ]
          },
          "metadata": {
            "tags": []
          },
          "execution_count": 45
        }
      ]
    },
    {
      "cell_type": "code",
      "metadata": {
        "id": "cRuxjHIqub6h",
        "colab_type": "code",
        "colab": {},
        "outputId": "cbe69ee3-4e20-44f8-bca0-1333a4d747ab"
      },
      "source": [
        "dyads.shape"
      ],
      "execution_count": 0,
      "outputs": [
        {
          "output_type": "execute_result",
          "data": {
            "text/plain": [
              "(146028, 8)"
            ]
          },
          "metadata": {
            "tags": []
          },
          "execution_count": 46
        }
      ]
    },
    {
      "cell_type": "code",
      "metadata": {
        "id": "xmRVlIuQub6m",
        "colab_type": "code",
        "colab": {},
        "outputId": "e8c5e68a-e8ad-43ce-856c-34ad22e4c1c6"
      },
      "source": [
        "dyads[dyads.redCards > 1].head(10)"
      ],
      "execution_count": 0,
      "outputs": [
        {
          "output_type": "execute_result",
          "data": {
            "text/html": [
              "<div>\n",
              "<table border=\"1\" class=\"dataframe\">\n",
              "  <thead>\n",
              "    <tr style=\"text-align: right;\">\n",
              "      <th></th>\n",
              "      <th></th>\n",
              "      <th>yellowCards</th>\n",
              "      <th>yellowReds</th>\n",
              "      <th>victories</th>\n",
              "      <th>ties</th>\n",
              "      <th>games</th>\n",
              "      <th>defeats</th>\n",
              "      <th>goals</th>\n",
              "      <th>redCards</th>\n",
              "    </tr>\n",
              "    <tr>\n",
              "      <th>refNum</th>\n",
              "      <th>playerShort</th>\n",
              "      <th></th>\n",
              "      <th></th>\n",
              "      <th></th>\n",
              "      <th></th>\n",
              "      <th></th>\n",
              "      <th></th>\n",
              "      <th></th>\n",
              "      <th></th>\n",
              "    </tr>\n",
              "  </thead>\n",
              "  <tbody>\n",
              "    <tr>\n",
              "      <th>140</th>\n",
              "      <th>bodipo</th>\n",
              "      <td>0</td>\n",
              "      <td>0</td>\n",
              "      <td>2</td>\n",
              "      <td>1</td>\n",
              "      <td>6</td>\n",
              "      <td>3</td>\n",
              "      <td>1</td>\n",
              "      <td>2</td>\n",
              "    </tr>\n",
              "    <tr>\n",
              "      <th>367</th>\n",
              "      <th>antonio-lopez_2</th>\n",
              "      <td>2</td>\n",
              "      <td>0</td>\n",
              "      <td>5</td>\n",
              "      <td>2</td>\n",
              "      <td>8</td>\n",
              "      <td>1</td>\n",
              "      <td>0</td>\n",
              "      <td>2</td>\n",
              "    </tr>\n",
              "    <tr>\n",
              "      <th rowspan=\"2\" valign=\"top\">432</th>\n",
              "      <th>javi-martinez</th>\n",
              "      <td>2</td>\n",
              "      <td>0</td>\n",
              "      <td>4</td>\n",
              "      <td>3</td>\n",
              "      <td>14</td>\n",
              "      <td>7</td>\n",
              "      <td>2</td>\n",
              "      <td>2</td>\n",
              "    </tr>\n",
              "    <tr>\n",
              "      <th>jonas</th>\n",
              "      <td>0</td>\n",
              "      <td>0</td>\n",
              "      <td>1</td>\n",
              "      <td>4</td>\n",
              "      <td>9</td>\n",
              "      <td>4</td>\n",
              "      <td>1</td>\n",
              "      <td>2</td>\n",
              "    </tr>\n",
              "    <tr>\n",
              "      <th>487</th>\n",
              "      <th>phil-jagielka</th>\n",
              "      <td>0</td>\n",
              "      <td>0</td>\n",
              "      <td>2</td>\n",
              "      <td>1</td>\n",
              "      <td>7</td>\n",
              "      <td>4</td>\n",
              "      <td>1</td>\n",
              "      <td>2</td>\n",
              "    </tr>\n",
              "    <tr>\n",
              "      <th>586</th>\n",
              "      <th>cyril-jeunechamp</th>\n",
              "      <td>6</td>\n",
              "      <td>0</td>\n",
              "      <td>8</td>\n",
              "      <td>0</td>\n",
              "      <td>14</td>\n",
              "      <td>6</td>\n",
              "      <td>0</td>\n",
              "      <td>2</td>\n",
              "    </tr>\n",
              "    <tr>\n",
              "      <th>804</th>\n",
              "      <th>sergio-ramos</th>\n",
              "      <td>6</td>\n",
              "      <td>1</td>\n",
              "      <td>12</td>\n",
              "      <td>1</td>\n",
              "      <td>18</td>\n",
              "      <td>5</td>\n",
              "      <td>4</td>\n",
              "      <td>2</td>\n",
              "    </tr>\n",
              "    <tr>\n",
              "      <th>985</th>\n",
              "      <th>aly-cissokho</th>\n",
              "      <td>1</td>\n",
              "      <td>0</td>\n",
              "      <td>1</td>\n",
              "      <td>5</td>\n",
              "      <td>9</td>\n",
              "      <td>3</td>\n",
              "      <td>1</td>\n",
              "      <td>2</td>\n",
              "    </tr>\n",
              "    <tr>\n",
              "      <th>1114</th>\n",
              "      <th>eugen-polanski</th>\n",
              "      <td>0</td>\n",
              "      <td>0</td>\n",
              "      <td>4</td>\n",
              "      <td>0</td>\n",
              "      <td>8</td>\n",
              "      <td>4</td>\n",
              "      <td>0</td>\n",
              "      <td>2</td>\n",
              "    </tr>\n",
              "    <tr>\n",
              "      <th>1214</th>\n",
              "      <th>emmanuel-adebayor</th>\n",
              "      <td>4</td>\n",
              "      <td>1</td>\n",
              "      <td>9</td>\n",
              "      <td>7</td>\n",
              "      <td>23</td>\n",
              "      <td>7</td>\n",
              "      <td>10</td>\n",
              "      <td>2</td>\n",
              "    </tr>\n",
              "  </tbody>\n",
              "</table>\n",
              "</div>"
            ],
            "text/plain": [
              "                          yellowCards  yellowReds  victories  ties  games  \\\n",
              "refNum playerShort                                                          \n",
              "140    bodipo                       0           0          2     1      6   \n",
              "367    antonio-lopez_2              2           0          5     2      8   \n",
              "432    javi-martinez                2           0          4     3     14   \n",
              "       jonas                        0           0          1     4      9   \n",
              "487    phil-jagielka                0           0          2     1      7   \n",
              "586    cyril-jeunechamp             6           0          8     0     14   \n",
              "804    sergio-ramos                 6           1         12     1     18   \n",
              "985    aly-cissokho                 1           0          1     5      9   \n",
              "1114   eugen-polanski               0           0          4     0      8   \n",
              "1214   emmanuel-adebayor            4           1          9     7     23   \n",
              "\n",
              "                          defeats  goals  redCards  \n",
              "refNum playerShort                                  \n",
              "140    bodipo                   3      1         2  \n",
              "367    antonio-lopez_2          1      0         2  \n",
              "432    javi-martinez            7      2         2  \n",
              "       jonas                    4      1         2  \n",
              "487    phil-jagielka            4      1         2  \n",
              "586    cyril-jeunechamp         6      0         2  \n",
              "804    sergio-ramos             5      4         2  \n",
              "985    aly-cissokho             3      1         2  \n",
              "1114   eugen-polanski           4      0         2  \n",
              "1214   emmanuel-adebayor        7     10         2  "
            ]
          },
          "metadata": {
            "tags": []
          },
          "execution_count": 47
        }
      ]
    },
    {
      "cell_type": "code",
      "metadata": {
        "id": "rmkXHx-Aub6w",
        "colab_type": "code",
        "colab": {},
        "outputId": "a9bba567-ffe5-4b86-ac9d-bc8e63dabb9f"
      },
      "source": [
        "save_subgroup(dyads, dyad_index, \"dyads\")"
      ],
      "execution_count": 0,
      "outputs": [
        {
          "output_type": "stream",
          "text": [
            "Test-passed: we recover the equivalent subgroup dataframe.\n"
          ],
          "name": "stdout"
        }
      ]
    },
    {
      "cell_type": "code",
      "metadata": {
        "id": "-8JUnoqqub7D",
        "colab_type": "code",
        "colab": {},
        "outputId": "d6249061-c40e-4d4f-9291-1e457aabbb03"
      },
      "source": [
        "dyads.redCards.max()"
      ],
      "execution_count": 0,
      "outputs": [
        {
          "output_type": "execute_result",
          "data": {
            "text/plain": [
              "2"
            ]
          },
          "metadata": {
            "tags": []
          },
          "execution_count": 49
        }
      ]
    }
  ]
}